{
 "cells": [
  {
   "cell_type": "code",
   "execution_count": 29,
   "metadata": {
    "collapsed": false
   },
   "outputs": [
    {
     "data": {
      "text/plain": [
       "'\\nnp.random.seed()\\xe7\\x9a\\x84\\xe4\\xbd\\x9c\\xe7\\x94\\xa8\\xef\\xbc\\x9a\\xe4\\xbd\\xbf\\xe5\\xbe\\x97\\xe9\\x9a\\x8f\\xe6\\x9c\\xba\\xe6\\x95\\xb0\\xe6\\x8d\\xae\\xe5\\x8f\\xaf\\xe9\\xa2\\x84\\xe6\\xb5\\x8b\\xe3\\x80\\x82\\n\\n\\xe7\\x9b\\xb8\\xe5\\xbd\\x93\\xe4\\xba\\x8e\\xe7\\xbb\\x99\\xe9\\x9a\\x8f\\xe6\\x9c\\xba\\xe6\\x95\\xb0\\xe8\\xb5\\x8b\\xe4\\xba\\x86\\xe4\\xb8\\xaaid\\xef\\xbc\\x8c\\xe4\\xb8\\x8b\\xe6\\xac\\xa1\\xe8\\xb0\\x83\\xe7\\x94\\xa8\\xe9\\x9a\\x8f\\xe6\\x9c\\xba\\xe6\\x95\\xb0\\xe7\\x9a\\x84\\xe6\\x97\\xb6\\xe5\\x80\\x99\\xef\\xbc\\x8c\\xe5\\x8f\\xaa\\xe8\\xa6\\x81\\xe5\\x86\\x8d\\xe6\\xac\\xa1\\xe5\\x8f\\x96\\xe8\\xbf\\x99\\xe4\\xb8\\xaaid\\xef\\xbc\\x8c\\xe5\\x86\\x8d\\xe8\\xb0\\x83\\xe7\\x94\\xa8\\xe9\\x9a\\x8f\\xe6\\x9c\\xba\\xe6\\x95\\xb0\\xef\\xbc\\x8c\\xe5\\x8d\\xb3\\xe5\\x8f\\xaf\\xe4\\xba\\xa7\\xe7\\x94\\x9f\\xe7\\x9b\\xb8\\xe5\\x90\\x8c\\xe7\\x9a\\x84\\xe9\\x9a\\x8f\\xe6\\x9c\\xba\\xe6\\x95\\xb0\\n\\n\\xe5\\x8f\\xaf\\xe4\\xbb\\xa5\\xe5\\x81\\x9a\\xe4\\xb8\\x8b\\xe8\\xbf\\x99\\xe4\\xb8\\xaa\\xe7\\xbb\\x83\\xe4\\xb9\\xa0:\\n\\nnp.random.seed(0)\\nnp.random.rand(5)\\n\\n#\\xe6\\x8e\\xa7\\xe5\\x88\\xb6\\xe5\\x8f\\xb0\\xe8\\xbe\\x93\\xe5\\x87\\xba\\xe7\\xbb\\x93\\xe6\\x9e\\x9c array([ 0.5488135 ,  0.71518937,  0.60276338,  0.54488318,  0.4236548 ])\\n\\nnp.random.seed(1676)\\nnp.random.rand(5)\\n\\n#\\xe6\\x8e\\xa7\\xe5\\x88\\xb6\\xe5\\x8f\\xb0\\xe8\\xbe\\x93\\xe5\\x87\\xba\\xe7\\xbb\\x93\\xe6\\x9e\\x9c array([ 0.39983389,  0.29426895,  0.89541728,  0.71807369,  0.3531823 ])\\n\\nnp.random.seed(1676)\\nnp.random.rand(5)\\n\\n#\\xe6\\x8e\\xa7\\xe5\\x88\\xb6\\xe5\\x8f\\xb0\\xe8\\xbe\\x93\\xe5\\x87\\xba\\xe7\\xbb\\x93\\xe6\\x9e\\x9c array([ 0.39983389,  0.29426895,  0.89541728,  0.71807369,  0.3531823 ])    \\n'"
      ]
     },
     "execution_count": 29,
     "metadata": {},
     "output_type": "execute_result"
    }
   ],
   "source": [
    "from __future__ import print_function\n",
    "\n",
    "'''\n",
    " Python 3.x引入了一些与Python 2不兼容的关键字和特性，在Python 2中，可以通过内置的__future__模块导入这些新内容。\n",
    " 如果你希望在Python 2环境下写的代码也可以在Python 3.x中运行，那么建议使用__future__模块。\n",
    " import print_function 这里使用3.x的 print方法\n",
    " 在Python 3中必须用括号将需要输出的对象括起来。在Python 2中使用额外的括号也是可以的。但反过来在Python 3中想以Python2的形式不带括号调用print函数时，会触发SyntaxError。\n",
    "'''\n",
    "\n",
    "import numpy as np\n",
    "\n",
    "#引入 numpy ，numpy的教程可以参看官网http://www.numpy.org/\n",
    "\n",
    "'''\n",
    "np.random.seed()的作用：使得随机数据可预测。\n",
    "\n",
    "相当于给随机数赋了个id，下次调用随机数的时候，只要再次取这个id，再调用随机数，即可产生相同的随机数\n",
    "\n",
    "可以做下这个练习:\n",
    "\n",
    "np.random.seed(0)\n",
    "np.random.rand(5)\n",
    "\n",
    "#控制台输出结果 array([ 0.5488135 ,  0.71518937,  0.60276338,  0.54488318,  0.4236548 ])\n",
    "\n",
    "np.random.seed(1676)\n",
    "np.random.rand(5)\n",
    "\n",
    "#控制台输出结果 array([ 0.39983389,  0.29426895,  0.89541728,  0.71807369,  0.3531823 ])\n",
    "\n",
    "np.random.seed(1676)\n",
    "np.random.rand(5)\n",
    "\n",
    "#控制台输出结果 array([ 0.39983389,  0.29426895,  0.89541728,  0.71807369,  0.3531823 ])    \n",
    "'''"
   ]
  },
  {
   "cell_type": "code",
   "execution_count": 30,
   "metadata": {
    "collapsed": false
   },
   "outputs": [],
   "source": [
    "from keras.datasets import mnist\n",
    "\n",
    "# 导入mnist数据库， mnist是常用的手写数字库\n",
    "\n",
    "from keras.models import Sequential\n",
    "\n",
    "#导入序贯模型,Sequential是多个网络层的线性堆叠，也就是“一条路走到黑”。\n",
    "\n",
    "from keras.layers.core import Dense, Dropout, Activation\n",
    "\n",
    "#导入全连接层Dense，激活层Activation 以及 Dropout层\n",
    "\n",
    "from keras.optimizers import SGD, Adam, RMSprop\n",
    "\n",
    "#导入优化器 SGD, Adam, RMSprop\n",
    "\n",
    "from keras.utils import np_utils\n",
    "\n",
    "#导入numpy工具，主要是用to_categorical来转换类别向量\n"
   ]
  },
  {
   "cell_type": "code",
   "execution_count": 31,
   "metadata": {
    "collapsed": true
   },
   "outputs": [],
   "source": [
    "#变量初始化\n",
    "\n",
    "batch_size = 128 \n",
    "\n",
    "#设置batch的大小\n",
    "\n",
    "nb_classes = 10\n",
    "\n",
    "#设置类别的个数\n",
    "\n",
    "nb_epoch = 20\n",
    "\n",
    "#设置迭代的次数\n"
   ]
  },
  {
   "cell_type": "code",
   "execution_count": 32,
   "metadata": {
    "collapsed": false
   },
   "outputs": [
    {
     "name": "stdout",
     "output_type": "stream",
     "text": [
      "(10000, 28, 28) [[  0   0   0   0   0   0   0   0   0   0   0   0   0   0   0   0   0   0\n",
      "    0   0   0   0   0   0   0   0   0   0]\n",
      " [  0   0   0   0   0   0   0   0   0   0   0   0   0   0   0   0   0   0\n",
      "    0   0   0   0   0   0   0   0   0   0]\n",
      " [  0   0   0   0   0   0   0   0   0   0   0   0   0   0   0   0   0   0\n",
      "    0   0   0   0   0   0   0   0   0   0]\n",
      " [  0   0   0   0   0   0   0   0   0   0   0   0   0   0   0   0   0   0\n",
      "    0   0   0   0   0   0   0   0   0   0]\n",
      " [  0   0   0   0   0   0   0   0   0   0   0   0   0   0   0   0   0   0\n",
      "    0   0   0   0   0   0   0   0   0   0]\n",
      " [  0   0   0   0   0   0   0   0   0   0   0   0   0   0   0   0   0   0\n",
      "    0   0   0   0   0   0   0   0   0   0]\n",
      " [  0   0   0   0   0   0   0   0   0   0   0   0   0   0   0   0   0   0\n",
      "    0   0   0   0   0   0   0   0   0   0]\n",
      " [  0   0   0   0   0   0  84 185 159 151  60  36   0   0   0   0   0   0\n",
      "    0   0   0   0   0   0   0   0   0   0]\n",
      " [  0   0   0   0   0   0 222 254 254 254 254 241 198 198 198 198 198 198\n",
      "  198 198 170  52   0   0   0   0   0   0]\n",
      " [  0   0   0   0   0   0  67 114  72 114 163 227 254 225 254 254 254 250\n",
      "  229 254 254 140   0   0   0   0   0   0]\n",
      " [  0   0   0   0   0   0   0   0   0   0   0  17  66  14  67  67  67  59\n",
      "   21 236 254 106   0   0   0   0   0   0]\n",
      " [  0   0   0   0   0   0   0   0   0   0   0   0   0   0   0   0   0   0\n",
      "   83 253 209  18   0   0   0   0   0   0]\n",
      " [  0   0   0   0   0   0   0   0   0   0   0   0   0   0   0   0   0  22\n",
      "  233 255  83   0   0   0   0   0   0   0]\n",
      " [  0   0   0   0   0   0   0   0   0   0   0   0   0   0   0   0   0 129\n",
      "  254 238  44   0   0   0   0   0   0   0]\n",
      " [  0   0   0   0   0   0   0   0   0   0   0   0   0   0   0   0  59 249\n",
      "  254  62   0   0   0   0   0   0   0   0]\n",
      " [  0   0   0   0   0   0   0   0   0   0   0   0   0   0   0   0 133 254\n",
      "  187   5   0   0   0   0   0   0   0   0]\n",
      " [  0   0   0   0   0   0   0   0   0   0   0   0   0   0   0   9 205 248\n",
      "   58   0   0   0   0   0   0   0   0   0]\n",
      " [  0   0   0   0   0   0   0   0   0   0   0   0   0   0   0 126 254 182\n",
      "    0   0   0   0   0   0   0   0   0   0]\n",
      " [  0   0   0   0   0   0   0   0   0   0   0   0   0   0  75 251 240  57\n",
      "    0   0   0   0   0   0   0   0   0   0]\n",
      " [  0   0   0   0   0   0   0   0   0   0   0   0   0  19 221 254 166   0\n",
      "    0   0   0   0   0   0   0   0   0   0]\n",
      " [  0   0   0   0   0   0   0   0   0   0   0   0   3 203 254 219  35   0\n",
      "    0   0   0   0   0   0   0   0   0   0]\n",
      " [  0   0   0   0   0   0   0   0   0   0   0   0  38 254 254  77   0   0\n",
      "    0   0   0   0   0   0   0   0   0   0]\n",
      " [  0   0   0   0   0   0   0   0   0   0   0  31 224 254 115   1   0   0\n",
      "    0   0   0   0   0   0   0   0   0   0]\n",
      " [  0   0   0   0   0   0   0   0   0   0   0 133 254 254  52   0   0   0\n",
      "    0   0   0   0   0   0   0   0   0   0]\n",
      " [  0   0   0   0   0   0   0   0   0   0  61 242 254 254  52   0   0   0\n",
      "    0   0   0   0   0   0   0   0   0   0]\n",
      " [  0   0   0   0   0   0   0   0   0   0 121 254 254 219  40   0   0   0\n",
      "    0   0   0   0   0   0   0   0   0   0]\n",
      " [  0   0   0   0   0   0   0   0   0   0 121 254 207  18   0   0   0   0\n",
      "    0   0   0   0   0   0   0   0   0   0]\n",
      " [  0   0   0   0   0   0   0   0   0   0   0   0   0   0   0   0   0   0\n",
      "    0   0   0   0   0   0   0   0   0   0]]\n",
      "(10000, 784)\n",
      "60000 train samples\n",
      "10000 test samples\n"
     ]
    }
   ],
   "source": [
    "#准备数据 the data, shuffled and split between train and test sets\n",
    "\n",
    "(X_train, y_train), (X_test, y_test) = mnist.load_data()\n",
    "\n",
    "print(X_test.shape,X_test[0])\n",
    "\n",
    "#keras中的mnist数据集已经被划分成了60,000个训练集，10,000个测试集的形式，按以上格式调用即可\n",
    "\n",
    "X_train = X_train.reshape(60000, 784)\n",
    "\n",
    "#X_train原本是一个60000*28*28的三维向量，将其转换为60000*784的二维向量\n",
    "\n",
    "X_test = X_test.reshape(10000, 784)\n",
    "\n",
    "print(X_test.shape)\n",
    "\n",
    "#X_test原本是一个10000*28*28的三维向量，将其转换为10000*784的二维向量\n",
    "\n",
    "X_train = X_train.astype('float32')\n",
    "X_test = X_test.astype('float32')\n",
    "\n",
    "#将X_train, X_test的数据格式转为float32存储\n",
    "\n",
    "X_train /= 255\n",
    "X_test /= 255\n",
    "\n",
    "#归一化\n",
    "\n",
    "print(X_train.shape[0], 'train samples')\n",
    "print(X_test.shape[0], 'test samples')\n"
   ]
  },
  {
   "cell_type": "code",
   "execution_count": 33,
   "metadata": {
    "collapsed": false
   },
   "outputs": [
    {
     "data": {
      "text/plain": [
       "'\\n\\xe5\\xb0\\x86\\xe7\\xb1\\xbb\\xe5\\x88\\xab\\xe5\\x90\\x91\\xe9\\x87\\x8f(\\xe4\\xbb\\x8e0\\xe5\\x88\\xb0nb_classes\\xe7\\x9a\\x84\\xe6\\x95\\xb4\\xe6\\x95\\xb0\\xe5\\x90\\x91\\xe9\\x87\\x8f)\\xe6\\x98\\xa0\\xe5\\xb0\\x84\\xe4\\xb8\\xba\\xe4\\xba\\x8c\\xe5\\x80\\xbc\\xe7\\xb1\\xbb\\xe5\\x88\\xab\\xe7\\x9f\\xa9\\xe9\\x98\\xb5\\xef\\xbc\\x8c\\n\\xe7\\x9b\\xb8\\xe5\\xbd\\x93\\xe4\\xba\\x8e\\xe5\\xb0\\x86\\xe5\\x90\\x91\\xe9\\x87\\x8f\\xe7\\x94\\xa8one-hot\\xe9\\x87\\x8d\\xe6\\x96\\xb0\\xe7\\xbc\\x96\\xe7\\xa0\\x81\\n'"
      ]
     },
     "execution_count": 33,
     "metadata": {},
     "output_type": "execute_result"
    }
   ],
   "source": [
    "# 转换类标号 convert class vectors to binary class matrices\n",
    "\n",
    "Y_train = np_utils.to_categorical(y_train, nb_classes)\n",
    "Y_test = np_utils.to_categorical(y_test, nb_classes)\n",
    "\n",
    "'''\n",
    "将类别向量(从0到nb_classes的整数向量)映射为二值类别矩阵，\n",
    "相当于将向量用one-hot重新编码\n",
    "'''"
   ]
  },
  {
   "cell_type": "code",
   "execution_count": 34,
   "metadata": {
    "collapsed": false
   },
   "outputs": [
    {
     "name": "stdout",
     "output_type": "stream",
     "text": [
      "____________________________________________________________________________________________________\n",
      "Layer (type)                       Output Shape        Param #     Connected to                     \n",
      "====================================================================================================\n",
      "dense_1 (Dense)                    (None, 512)         401920      dense_input_1[0][0]              \n",
      "____________________________________________________________________________________________________\n",
      "activation_1 (Activation)          (None, 512)         0           dense_1[0][0]                    \n",
      "____________________________________________________________________________________________________\n",
      "dropout_1 (Dropout)                (None, 512)         0           activation_1[0][0]               \n",
      "____________________________________________________________________________________________________\n",
      "dense_2 (Dense)                    (None, 512)         262656      dropout_1[0][0]                  \n",
      "____________________________________________________________________________________________________\n",
      "activation_2 (Activation)          (None, 512)         0           dense_2[0][0]                    \n",
      "____________________________________________________________________________________________________\n",
      "dropout_2 (Dropout)                (None, 512)         0           activation_2[0][0]               \n",
      "____________________________________________________________________________________________________\n",
      "dense_3 (Dense)                    (None, 10)          5130        dropout_2[0][0]                  \n",
      "____________________________________________________________________________________________________\n",
      "activation_3 (Activation)          (None, 10)          0           dense_3[0][0]                    \n",
      "====================================================================================================\n",
      "Total params: 669706\n",
      "____________________________________________________________________________________________________\n"
     ]
    }
   ],
   "source": [
    "#建立模型 使用Sequential（）\n",
    "'''\n",
    "模型需要知道输入数据的shape，\n",
    "因此，Sequential的第一层需要接受一个关于输入数据shape的参数，\n",
    "后面的各个层则可以自动推导出中间数据的shape，\n",
    "因此不需要为每个层都指定这个参数\n",
    "''' \n",
    "model = Sequential()\n",
    "\n",
    "model.add(Dense(512, input_shape=(784,)))\n",
    "model.add(Activation('relu'))\n",
    "model.add(Dropout(0.2))\n",
    "\n",
    "# 输入层有784个神经元\n",
    "# 第一个隐层有512个神经元，激活函数为ReLu，Dropout比例为0.2\n",
    "\n",
    "model.add(Dense(512))\n",
    "model.add(Activation('relu'))\n",
    "model.add(Dropout(0.2))\n",
    "\n",
    "# 第二个隐层有512个神经元，激活函数为ReLu，Dropout比例为0.2\n",
    "\n",
    "model.add(Dense(10))\n",
    "model.add(Activation('softmax'))\n",
    "\n",
    "# 输出层有10个神经元，激活函数为SoftMax，得到分类结果\n",
    "\n",
    "# 输出模型的整体信息\n",
    "# 总共参数数量为784*512+512 + 512*512+512 + 512*10+10 = 669706\n",
    "\n",
    "model.summary()"
   ]
  },
  {
   "cell_type": "code",
   "execution_count": 35,
   "metadata": {
    "collapsed": false
   },
   "outputs": [
    {
     "name": "stdout",
     "output_type": "stream",
     "text": [
      "____________________________________________________________________________________________________\n",
      "Layer (type)                       Output Shape        Param #     Connected to                     \n",
      "====================================================================================================\n",
      "dense_1 (Dense)                    (None, 512)         401920      dense_input_1[0][0]              \n",
      "____________________________________________________________________________________________________\n",
      "activation_1 (Activation)          (None, 512)         0           dense_1[0][0]                    \n",
      "____________________________________________________________________________________________________\n",
      "dropout_1 (Dropout)                (None, 512)         0           activation_1[0][0]               \n",
      "____________________________________________________________________________________________________\n",
      "dense_2 (Dense)                    (None, 512)         262656      dropout_1[0][0]                  \n",
      "____________________________________________________________________________________________________\n",
      "activation_2 (Activation)          (None, 512)         0           dense_2[0][0]                    \n",
      "____________________________________________________________________________________________________\n",
      "dropout_2 (Dropout)                (None, 512)         0           activation_2[0][0]               \n",
      "____________________________________________________________________________________________________\n",
      "dense_3 (Dense)                    (None, 10)          5130        dropout_2[0][0]                  \n",
      "____________________________________________________________________________________________________\n",
      "activation_3 (Activation)          (None, 10)          0           dense_3[0][0]                    \n",
      "====================================================================================================\n",
      "Total params: 669706\n",
      "____________________________________________________________________________________________________\n"
     ]
    }
   ],
   "source": [
    "#打印模型\n",
    "\n",
    "model.summary()"
   ]
  },
  {
   "cell_type": "code",
   "execution_count": null,
   "metadata": {
    "collapsed": true
   },
   "outputs": [],
   "source": [
    "#配置模型的学习过程\n",
    "'''\n",
    "compile接收三个参数：\n",
    "1.优化器optimizer：参数可指定为已预定义的优化器名，如rmsprop、adagrad，\n",
    "或一个Optimizer类对象，如此处的RMSprop()\n",
    "2.损失函数loss：参数为模型试图最小化的目标函数，可为预定义的损失函数，\n",
    "如categorical_crossentropy、mse，也可以为一个损失函数\n",
    "3.指标列表：对于分类问题，一般将该列表设置为metrics=['accuracy']\n",
    "'''\n",
    "\n",
    "model.compile(loss='categorical_crossentropy',\n",
    "              optimizer=RMSprop(),\n",
    "              metrics=['accuracy'])"
   ]
  },
  {
   "cell_type": "code",
   "execution_count": null,
   "metadata": {
    "collapsed": false
   },
   "outputs": [
    {
     "name": "stdout",
     "output_type": "stream",
     "text": [
      "Train on 60000 samples, validate on 10000 samples\n",
      "Epoch 1/20\n"
     ]
    }
   ],
   "source": [
    "#训练模型\n",
    "'''\n",
    "batch_size：指定梯度下降时每个batch包含的样本数\n",
    "nb_epoch：训练的轮数，nb指number of\n",
    "verbose：日志显示，0为不在标准输出流输出日志信息，1为输出进度条记录，2为epoch输出一行记录\n",
    "validation_data：指定验证集\n",
    "fit函数返回一个History的对象，其History.history属性记录了损失函数和其他指标的数值随epoch变化的情况，\n",
    "如果有验证集的话，也包含了验证集的这些指标变化情况\n",
    "'''\n",
    "\n",
    "history = model.fit(X_train, Y_train,\n",
    "                    batch_size=batch_size, nb_epoch=nb_epoch,\n",
    "                    verbose=2, validation_data=(X_test, Y_test))"
   ]
  },
  {
   "cell_type": "code",
   "execution_count": null,
   "metadata": {
    "collapsed": false
   },
   "outputs": [],
   "source": [
    "#模型评估\n",
    "\n",
    "score = model.evaluate(X_test, Y_test, verbose=0)\n",
    "print('Test score:', score[0])\n",
    "print('Test accuracy:', score[1])\n"
   ]
  },
  {
   "cell_type": "code",
   "execution_count": null,
   "metadata": {
    "collapsed": false
   },
   "outputs": [],
   "source": [
    "#保存神经网络的结构与训练好的参数\n",
    "\n",
    "json_string = model.to_json()  \n",
    "open('my_model_architecture.json','w').write(json_string)    \n",
    "model.save_weights('my_model_weights.h5')\n"
   ]
  }
 ],
 "metadata": {
  "kernelspec": {
   "display_name": "Python 2",
   "language": "python",
   "name": "python2"
  },
  "language_info": {
   "codemirror_mode": {
    "name": "ipython",
    "version": 2
   },
   "file_extension": ".py",
   "mimetype": "text/x-python",
   "name": "python",
   "nbconvert_exporter": "python",
   "pygments_lexer": "ipython2",
   "version": "2.7.6"
  }
 },
 "nbformat": 4,
 "nbformat_minor": 0
}
