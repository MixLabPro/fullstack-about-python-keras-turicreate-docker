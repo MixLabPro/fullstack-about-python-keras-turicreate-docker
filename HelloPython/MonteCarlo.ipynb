{
 "cells": [
  {
   "cell_type": "code",
   "execution_count": 4,
   "metadata": {
    "collapsed": true
   },
   "outputs": [],
   "source": [
    "#Monty Hall(娱乐节目抽奖游戏)\n",
    "\n",
    "import os\n",
    "import random\n",
    "\n",
    "#生成连续的整型序列\n",
    "def intSeq(num):\n",
    "    seq=[]\n",
    "    for i in range(num):\n",
    "        seq.append(i+1)\n",
    "    return seq\n"
   ]
  },
  {
   "cell_type": "code",
   "execution_count": 3,
   "metadata": {
    "collapsed": true
   },
   "outputs": [],
   "source": [
    "#随机生成有奖的门号\n",
    "def getPrize(num):\n",
    "    prize=random.choice(intSeq(num))\n",
    "    return prize \n",
    "\n",
    "#嘉宾选择\n",
    "def getChoicebyGuest(num):\n",
    "    guest=random.choice(intSeq(num))\n",
    "    return guest\n",
    "\n",
    "#主持人选择,不能选择有奖的门和嘉宾已选择的门\n",
    "def getChoicebyHost(prize,guest,num):\n",
    "    choice_set=intSeq(num)\n",
    "    if prize in choice_set:\n",
    "        choice_set.remove(prize) \n",
    "    if guest in choice_set:\n",
    "        choice_set.remove(guest)\n",
    "    host=random.choice(choice_set)\n",
    "    return host\n",
    "\n",
    "#  嘉宾不换与换,是否赢\n",
    "def isWin(prize,guest,host,num):\n",
    "    choice_set=intSeq(num)\n",
    "    \n",
    "    #去除嘉宾选择\n",
    "    if guest in choice_set:\n",
    "        choice_set.remove(guest)\n",
    "        \n",
    "    #去除主持人选择\n",
    "    if host in choice_set:\n",
    "        choice_set.remove(host) \n",
    "    \n",
    "    \n",
    "    is_notchange_win=0\n",
    "    is_change_win=0\n",
    "    \n",
    "    #如果不换，是否中奖\n",
    "    if prize==guest:\n",
    "        is_notchange_win=1\n",
    "    \n",
    "    #如果换，除嘉宾和主持人门号外，嘉宾在剩下的随机选择一个\n",
    "    change_num=random.choice(choice_set) \n",
    "    \n",
    "    #是否中奖\n",
    "    if prize==change_num:\n",
    "        is_change_win=1\n",
    "    \n",
    "    return is_notchange_win,is_change_win,change_num\n",
    "\n",
    "#多次模拟\n",
    "def MultipleSimulation(times,num):\n",
    "    result=[]\n",
    "    for i in range(times):\n",
    "        \n",
    "        # 生成有奖的门号\n",
    "        prize=getPrize(num)\n",
    "        \n",
    "        #嘉宾选择门号\n",
    "        guest=getChoicebyGuest(num) \n",
    "        \n",
    "        #主持人选择门号\n",
    "        host=getChoicebyHost(prize,guest,num) \n",
    "        \n",
    "        #换与不换是否中奖\n",
    "        is_notchange_win,is_change_win,change_num=isWin(prize,guest,host,num) \n",
    "        \n",
    "        #每次结果统计\n",
    "        test_result=','.join([str(prize),str(guest),str(host),str(change_num),str(is_notchange_win),str(is_change_win)])\n",
    "        \n",
    "        result.append(test_result)\n",
    "        \n",
    "    return result\n",
    "\n"
   ]
  },
  {
   "cell_type": "code",
   "execution_count": 1,
   "metadata": {
    "collapsed": false
   },
   "outputs": [
    {
     "name": "stdout",
     "output_type": "stream",
     "text": [
      "0\n",
      "0.5\n"
     ]
    }
   ],
   "source": [
    "#Python中分为3种除法：传统除法、精确除法、地板除。\n",
    "\n",
    "#传统除法\n",
    "\n",
    "#如果是整数除法则执行地板除，如果是浮点数除法则执行精确除法。\n",
    "\n",
    "print(1/2)\n",
    "print(1.0/2.0)"
   ]
  },
  {
   "cell_type": "code",
   "execution_count": 2,
   "metadata": {
    "collapsed": false
   },
   "outputs": [
    {
     "data": {
      "text/plain": [
       "0.5"
      ]
     },
     "execution_count": 2,
     "metadata": {},
     "output_type": "execute_result"
    }
   ],
   "source": [
    "'''\n",
    "精确除法\n",
    "除法总是会返回真实的商，不管操作数是整形还是浮点型。执行from __future__ import division 指令就可以做到这一点\n",
    "'''\n",
    "from __future__ import division\n",
    "1/2"
   ]
  },
  {
   "cell_type": "code",
   "execution_count": 5,
   "metadata": {
    "collapsed": true
   },
   "outputs": [],
   "source": [
    "from __future__ import division\n",
    "\n",
    "#预测某场景嘉宾为了获奖是否要换，例如：嘉宾选1号门，主持人选3号门时，根据换与不换赢的概率决定是否要换。\n",
    "def winPro(guest_choice,host_choice,result):\n",
    "    \n",
    "    #要不要换门号（如果换后赢的概率大于未换的概率，则换门号）\n",
    "    chage_flag=0 \n",
    "    \n",
    "    #模拟多次中某一场景出现的次数，例如：模拟100万次，嘉宾选1号门，主持人选3号门，该场景出现的次数。\n",
    "    times_item=0\n",
    "    \n",
    "    #不换，赢标志\n",
    "    no_change_win=0 \n",
    "    \n",
    "    #换，赢标志\n",
    "    change_win=0 \n",
    "    \n",
    "    for i in range(len(result)):\n",
    "        test_result=result[i].split(',')\n",
    "        \n",
    "        #符合指定场景\n",
    "        if int(test_result[1])==guest_choice and int(test_result[2])==host_choice: \n",
    "            \n",
    "            #符合指定场景,累计1次\n",
    "            times_item=times_item+1\n",
    "            \n",
    "            if int(test_result[4])==1:\n",
    "                \n",
    "                #统计该场景下，不换赢的次数\n",
    "                no_change_win=no_change_win+1 \n",
    "                \n",
    "            if int(test_result[5])==1:\n",
    "                \n",
    "                #统计该场景下，换赢的次数。\n",
    "                change_win=change_win+1 \n",
    "    \n",
    "    #计算不换赢概率，不换赢的次数除于该场景出现的次数  \n",
    "    print(no_change_win,times_item)\n",
    "    no_change_pro=no_change_win/times_item \n",
    "    \n",
    "    #计算换赢概率，换赢的次数除于该场景出现的次数\n",
    "    change_pro=change_win/times_item \n",
    "    \n",
    "    #如果换赢的概率大于不换赢的概率，则换。\n",
    "    if change_pro>no_change_pro: \n",
    "        chage_flag=1   \n",
    "        \n",
    "    return no_change_pro,change_pro,chage_flag,times_item\n"
   ]
  },
  {
   "cell_type": "code",
   "execution_count": 23,
   "metadata": {
    "collapsed": false
   },
   "outputs": [
    {
     "name": "stdout",
     "output_type": "stream",
     "text": [
      "模拟次数,嘉宾选择,主持人选择,换赢的概率大于不换赢的概率=1,换赢的概率,不换赢的概率\n",
      "(5656, 16767)\n",
      "('times:16767', 'guest: 1', 'host:2', '1', '0.66', '0.34')\n",
      "(5555, 16691)\n",
      "('times:16691', 'guest: 1', 'host:3', '1', '0.67', '0.33')\n",
      "(5527, 16559)\n",
      "('times:16559', 'guest: 2', 'host:1', '1', '0.67', '0.33')\n",
      "(5740, 16717)\n",
      "('times:16717', 'guest: 2', 'host:3', '1', '0.66', '0.34')\n",
      "(5607, 16737)\n",
      "('times:16737', 'guest: 3', 'host:1', '1', '0.66', '0.34')\n",
      "(5582, 16529)\n",
      "('times:16529', 'guest: 3', 'host:2', '1', '0.66', '0.34')\n"
     ]
    }
   ],
   "source": [
    "#门的个数\n",
    "door_num=3\n",
    "\n",
    "#模拟次数\n",
    "times=100000 \n",
    "\n",
    "#模拟结果\n",
    "result=MultipleSimulation(times,door_num)\n",
    "\n",
    "print('模拟次数,嘉宾选择,主持人选择,换赢的概率大于不换赢的概率=1,换赢的概率,不换赢的概率')\n",
    "           \n",
    "#遍历所有可能出现的场景   \n",
    "for i in range(1,door_num+1): \n",
    "        \n",
    "    for j in range(1,door_num+1):\n",
    "        \n",
    "        #嘉宾和主持人选择不能一样。\n",
    "        if i<>j:\n",
    "            \n",
    "            #预测某场景嘉宾为了获奖是否要换\n",
    "            no_change_pro,change_pro,chage_flag,times_item=winPro(i,j,result)\n",
    "            \n",
    "            print ('times:%d'%times_item,'guest: %d'%i,'host:%d'%j,'%d'%chage_flag,'%.2f'% change_pro,'%.2f'% no_change_pro)\n",
    "            '''\n",
    "                       \n",
    "            print('模拟次数')\n",
    "            print(times_item)\n",
    "            \n",
    "            print('嘉宾选择')\n",
    "            print(i)\n",
    "            \n",
    "            print('主持人选择')\n",
    "            print(j)\n",
    "            \n",
    "            print('换赢的概率大于不换赢的概率=1')\n",
    "            print(chage_flag)\n",
    "            \n",
    "            print('换赢的概率')\n",
    "            print(change_pro)\n",
    "            \n",
    "            print('不换赢的概率')\n",
    "            print(no_change_pro)\n",
    "            '''\n",
    " \n",
    "            "
   ]
  },
  {
   "cell_type": "code",
   "execution_count": null,
   "metadata": {
    "collapsed": true
   },
   "outputs": [],
   "source": []
  }
 ],
 "metadata": {
  "kernelspec": {
   "display_name": "Python 2",
   "language": "python",
   "name": "python2"
  },
  "language_info": {
   "codemirror_mode": {
    "name": "ipython",
    "version": 2
   },
   "file_extension": ".py",
   "mimetype": "text/x-python",
   "name": "python",
   "nbconvert_exporter": "python",
   "pygments_lexer": "ipython2",
   "version": "2.7.6"
  }
 },
 "nbformat": 4,
 "nbformat_minor": 0
}
