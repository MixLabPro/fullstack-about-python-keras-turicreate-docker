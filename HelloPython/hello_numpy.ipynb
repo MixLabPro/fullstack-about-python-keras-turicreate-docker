{
 "cells": [
  {
   "cell_type": "code",
   "execution_count": 9,
   "metadata": {
    "collapsed": false
   },
   "outputs": [
    {
     "name": "stdout",
     "output_type": "stream",
     "text": [
      "1.13.3\n"
     ]
    }
   ],
   "source": [
    "import numpy\n",
    "\n",
    "print numpy.version.full_version"
   ]
  },
  {
   "cell_type": "code",
   "execution_count": 12,
   "metadata": {
    "collapsed": false
   },
   "outputs": [
    {
     "name": "stdout",
     "output_type": "stream",
     "text": [
      "1.13.3\n"
     ]
    }
   ],
   "source": [
    "## 在import扩展模块时添加模块在程序中的别名\n",
    "\n",
    "import numpy as np\n",
    "\n",
    "print np.version.full_version"
   ]
  },
  {
   "cell_type": "code",
   "execution_count": 23,
   "metadata": {
    "collapsed": false
   },
   "outputs": [
    {
     "name": "stdout",
     "output_type": "stream",
     "text": [
      "[ 0  1  2  3  4  5  6  7  8  9 10 11]\n"
     ]
    }
   ],
   "source": [
    "## NumPy中的基本对象是同类型的多维数组（homogeneous multidimensional array）\n",
    "\n",
    "a = np.arange(12)\n",
    "\n",
    "print a\n",
    "\n",
    "##生成了一个一维数组a，从0开始，步长为1，长度为12"
   ]
  },
  {
   "cell_type": "code",
   "execution_count": 16,
   "metadata": {
    "collapsed": false
   },
   "outputs": [
    {
     "name": "stdout",
     "output_type": "stream",
     "text": [
      "<type 'numpy.ndarray'>\n"
     ]
    }
   ],
   "source": [
    "##查看变量类型\n",
    "print type(a)"
   ]
  },
  {
   "cell_type": "code",
   "execution_count": 24,
   "metadata": {
    "collapsed": false
   },
   "outputs": [
    {
     "name": "stdout",
     "output_type": "stream",
     "text": [
      "[[ 0  1  2  3]\n",
      " [ 4  5  6  7]\n",
      " [ 8  9 10 11]]\n"
     ]
    }
   ],
   "source": [
    "##reshape重新构造数组,把长度为12的一维数组，构造成3*4的二维数组,3行4列的数组 \n",
    "\n",
    "a = a.reshape(3, 4)\n",
    "\n",
    "print a\n"
   ]
  },
  {
   "cell_type": "code",
   "execution_count": 30,
   "metadata": {
    "collapsed": false
   },
   "outputs": [
    {
     "name": "stdout",
     "output_type": "stream",
     "text": [
      "[[[ 0  1]\n",
      "  [ 2  3]]\n",
      "\n",
      " [[ 4  5]\n",
      "  [ 6  7]]\n",
      "\n",
      " [[ 8  9]\n",
      "  [10 11]]]\n"
     ]
    }
   ],
   "source": [
    "#更高维的数组\n",
    "\n",
    "a = a.reshape(3, 2, 2)\n",
    "\n",
    "print a"
   ]
  },
  {
   "cell_type": "code",
   "execution_count": 35,
   "metadata": {
    "collapsed": false
   },
   "outputs": [
    {
     "name": "stdout",
     "output_type": "stream",
     "text": [
      "3\n",
      "(3, 2, 2)\n",
      "12\n",
      "int64\n",
      "8\n"
     ]
    }
   ],
   "source": [
    "'''\n",
    "ndim查看维度\n",
    "\n",
    "shape查看各维度的大小\n",
    "\n",
    "size查看全部的元素个数，等于各维度大小的乘积\n",
    "\n",
    "dtype可查看元素类型\n",
    "\n",
    "itemsize查看元素占位（bytes）大小\n",
    "\n",
    "'''\n",
    "\n",
    "print a.ndim\n",
    "print a.shape\n",
    "print a.size\n",
    "print a.dtype\n",
    "print a.itemsize"
   ]
  },
  {
   "cell_type": "code",
   "execution_count": 36,
   "metadata": {
    "collapsed": false
   },
   "outputs": [
    {
     "name": "stdout",
     "output_type": "stream",
     "text": [
      "[0 1 2 3 4]\n"
     ]
    }
   ],
   "source": [
    "#创建数组,数组的创建可通过转换列表实现\n",
    "\n",
    "raw = [0,1,2,3,4]\n",
    "a = np.array(raw)\n",
    "\n",
    "print a\n"
   ]
  },
  {
   "cell_type": "code",
   "execution_count": 37,
   "metadata": {
    "collapsed": false
   },
   "outputs": [
    {
     "name": "stdout",
     "output_type": "stream",
     "text": [
      "[[0 1 2 3 4]\n",
      " [5 6 7 8 9]]\n"
     ]
    }
   ],
   "source": [
    "#高维数组可通过转换嵌套列表实现\n",
    "\n",
    "raw = [[0,1,2,3,4], [5,6,7,8,9]]\n",
    "\n",
    "b = np.array(raw)\n",
    "\n",
    "print b"
   ]
  },
  {
   "cell_type": "code",
   "execution_count": 39,
   "metadata": {
    "collapsed": false
   },
   "outputs": [
    {
     "name": "stdout",
     "output_type": "stream",
     "text": [
      "[[ 0.  0.  0.  0.  0.  0.  0.  0.]\n",
      " [ 0.  0.  0.  0.  0.  0.  0.  0.]\n",
      " [ 0.  0.  0.  0.  0.  0.  0.  0.]]\n"
     ]
    }
   ],
   "source": [
    "#一些特殊的数组有特别定制的命令生成，如3*8的全零矩阵：\n",
    "\n",
    "d = (3, 8)\n",
    "\n",
    "z=np.zeros(d)\n",
    "\n",
    "print z"
   ]
  },
  {
   "cell_type": "code",
   "execution_count": 41,
   "metadata": {
    "collapsed": false
   },
   "outputs": [
    {
     "name": "stdout",
     "output_type": "stream",
     "text": [
      "float64\n"
     ]
    }
   ],
   "source": [
    "#默认生成的类型是浮点型\n",
    "\n",
    "print z.dtype"
   ]
  },
  {
   "cell_type": "code",
   "execution_count": 43,
   "metadata": {
    "collapsed": false
   },
   "outputs": [
    {
     "name": "stdout",
     "output_type": "stream",
     "text": [
      "int64\n"
     ]
    }
   ],
   "source": [
    "#可以通过指定类型改为整型\n",
    "\n",
    "d = (4, 5)\n",
    "\n",
    "i=np.ones(d, dtype=int)\n",
    "\n",
    "print i.dtype"
   ]
  },
  {
   "cell_type": "code",
   "execution_count": 49,
   "metadata": {
    "collapsed": false
   },
   "outputs": [
    {
     "name": "stdout",
     "output_type": "stream",
     "text": [
      "a:\n",
      "[[ 1.  2.]\n",
      " [ 2.  4.]]\n",
      "b:\n",
      "[[ 3.2  1.5]\n",
      " [ 2.5  4. ]]\n",
      "a/b:\n",
      "[[ 0.3125      1.33333333]\n",
      " [ 0.8         1.        ]]\n"
     ]
    }
   ],
   "source": [
    "#加减乘除 + - * /,运算都是基于全部的数组元素的\n",
    "\n",
    "a = np.array([[1.0, 2], [2, 4]])\n",
    "\n",
    "print \"a:\"\n",
    "\n",
    "print a\n",
    "\n",
    "b = np.array([[3.2, 1.5], [2.5, 4]])\n",
    "\n",
    "print \"b:\"\n",
    "\n",
    "print b\n",
    "\n",
    "print \"a/b:\"\n",
    "\n",
    "print a/b"
   ]
  },
  {
   "cell_type": "code",
   "execution_count": 51,
   "metadata": {
    "collapsed": false
   },
   "outputs": [
    {
     "name": "stdout",
     "output_type": "stream",
     "text": [
      "2 * a:\n",
      "[[ 2.  4.]\n",
      " [ 4.  8.]]\n",
      "b - 1.2:\n",
      "[[ 2.   0.3]\n",
      " [ 1.3  2.8]]\n"
     ]
    }
   ],
   "source": [
    "# 运算符也可以对标量和数组操作，结果是数组的全部元素对这个标量进行运算，还是一个数组\n",
    "\n",
    "print \"2 * a:\"\n",
    "\n",
    "print 2 * a\n",
    "\n",
    "print \"b - 1.2:\"\n",
    "\n",
    "print b - 1.2\n"
   ]
  },
  {
   "cell_type": "code",
   "execution_count": 54,
   "metadata": {
    "collapsed": false
   },
   "outputs": [
    {
     "name": "stdout",
     "output_type": "stream",
     "text": [
      "[[  6.   8.]\n",
      " [  8.  12.]]\n"
     ]
    }
   ],
   "source": [
    "# +=  -=  *=  /= 操作符在NumPy中同样支持\n",
    "\n",
    "a*=2\n",
    "\n",
    "print a"
   ]
  },
  {
   "cell_type": "code",
   "execution_count": 60,
   "metadata": {
    "collapsed": false
   },
   "outputs": [
    {
     "name": "stdout",
     "output_type": "stream",
     "text": [
      "a:\n",
      "[[ 0  1  2  3  4]\n",
      " [ 5  6  7  8  9]\n",
      " [10 11 12 13 14]\n",
      " [15 16 17 18 19]]\n",
      "sum of all elements in a: 190\n",
      "maximum element in a: 19\n",
      "minimum element in a: 0\n",
      "maximum element in each row of a: [ 4  9 14 19]\n",
      "minimum element in each row of a: [ 0  5 10 15]\n",
      "sum element in each row of a: [10 35 60 85]\n"
     ]
    }
   ],
   "source": [
    "# 最大 最小值,全部元素的和、按行求和、按列求和\n",
    "\n",
    "a = np.arange(20).reshape(4,5)\n",
    "\n",
    "print \"a:\"\n",
    "\n",
    "print a\n",
    "\n",
    "print \"sum of all elements in a: \" + str(a.sum())\n",
    "\n",
    "print \"maximum element in a: \" + str(a.max())\n",
    "\n",
    "print \"minimum element in a: \" + str(a.min())\n",
    "\n",
    "print \"maximum element in each row of a: \" + str(a.max(axis=1))\n",
    "\n",
    "print \"minimum element in each row of a: \" + str(a.min(axis=1))\n",
    "\n",
    "print \"sum element in each row of a: \" + str(a.sum(axis=1))"
   ]
  },
  {
   "cell_type": "code",
   "execution_count": 64,
   "metadata": {
    "collapsed": false
   },
   "outputs": [
    {
     "name": "stdout",
     "output_type": "stream",
     "text": [
      "[[ 0  1  2  3  4]\n",
      " [ 5  6  7  8  9]\n",
      " [10 11 12 13 14]\n",
      " [15 16 17 18 19]]\n",
      "<class 'numpy.matrixlib.defmatrix.matrix'>\n",
      "[[ 1.  2.]\n",
      " [ 3.  4.]]\n",
      "<class 'numpy.matrixlib.defmatrix.matrix'>\n"
     ]
    }
   ],
   "source": [
    "'''\n",
    "矩阵对象和数组的主要有两点差别：\n",
    "\n",
    "一是矩阵是二维的，而数组的可以是任意正整数维；\n",
    "\n",
    "二是矩阵的'*'操作符进行的是矩阵乘法，乘号左侧的矩阵列和乘号右侧的矩阵行要相等，\n",
    "而在数组中'*'操作符进行的是每一元素的对应相乘，乘号两侧的数组每一维大小需要一致。\n",
    "\n",
    "数组可以通过asmatrix或者mat转换为矩阵，或者直接生成也可以：\n",
    "\n",
    "'''\n",
    "a = np.arange(20).reshape(4, 5)\n",
    "\n",
    "a = np.asmatrix(a)\n",
    "\n",
    "print a\n",
    "print type(a)\n",
    "\n",
    "b = np.matrix('1.0 2.0; 3.0 4.0')\n",
    "\n",
    "print b\n",
    "print type(b)\n"
   ]
  },
  {
   "cell_type": "code",
   "execution_count": 66,
   "metadata": {
    "collapsed": false
   },
   "outputs": [
    {
     "name": "stdout",
     "output_type": "stream",
     "text": [
      "[[ 3.2  1.5]\n",
      " [ 2.5  4. ]]\n",
      "1.5\n"
     ]
    }
   ],
   "source": [
    "#数组和矩阵元素的访问可通过下标进行，以下均以二维数组（或矩阵）为例：\n",
    "\n",
    "a = np.array([[3.2, 1.5], [2.5, 4]])\n",
    "\n",
    "print a\n",
    "print a[0][1]\n"
   ]
  },
  {
   "cell_type": "code",
   "execution_count": 67,
   "metadata": {
    "collapsed": false
   },
   "outputs": [
    {
     "name": "stdout",
     "output_type": "stream",
     "text": [
      "a:\n",
      "[[ 3.2  2. ]\n",
      " [ 2.5  4. ]]\n",
      "b:\n"
     ]
    }
   ],
   "source": [
    "##通过下标访问来修改数组元素的值\n",
    "\n",
    "b = a\n",
    "\n",
    "a[0][1] = 2.0\n",
    "\n",
    "print \"a:\"\n",
    "\n",
    "print a\n",
    "\n",
    "print \"b:\""
   ]
  },
  {
   "cell_type": "code",
   "execution_count": 68,
   "metadata": {
    "collapsed": false
   },
   "outputs": [
    {
     "name": "stdout",
     "output_type": "stream",
     "text": [
      "[[ 3.2  2. ]\n",
      " [ 2.5  4. ]]\n"
     ]
    }
   ],
   "source": [
    "print b"
   ]
  },
  {
   "cell_type": "code",
   "execution_count": 69,
   "metadata": {
    "collapsed": false
   },
   "outputs": [
    {
     "name": "stdout",
     "output_type": "stream",
     "text": [
      "a:\n",
      "[[ 3.2  2. ]\n",
      " [ 2.5  4. ]]\n",
      "b:\n",
      "1.5\n"
     ]
    }
   ],
   "source": [
    "'''\n",
    "Python不是真正将a复制一份给b，\n",
    "而是将b指到了a对应数据的内存地址上。\n",
    "想要真正的复制一份a给b，可以使用copy\n",
    "\n",
    "'''\n",
    "\n",
    "a = np.array([[3.2, 1.5], [2.5, 4]])\n",
    "\n",
    "b = a.copy()\n",
    "\n",
    "a[0][1] = 2.0\n",
    "\n",
    "print \"a:\"\n",
    "\n",
    "print a\n",
    "\n",
    "print \"b:\"\n",
    "\n",
    "print b[0][1]"
   ]
  },
  {
   "cell_type": "code",
   "execution_count": 109,
   "metadata": {
    "collapsed": false
   },
   "outputs": [
    {
     "name": "stdout",
     "output_type": "stream",
     "text": [
      "(3, 6)\n",
      "the 2nd and 4th column of a:\n",
      "[[ 0  1  2  3  4  5]\n",
      " [ 6  7  8  9 10 11]\n",
      " [12 13 14 15 16 17]]\n",
      "[ 2  8 14]\n",
      "[[ 1  3]\n",
      " [ 7  9]\n",
      " [13 15]]\n",
      "[[ 0  2  3]\n",
      " [ 6  8  9]\n",
      " [12 14 15]]\n",
      "[0 1 2 3]\n",
      "[12 13 14 15 16 17]\n",
      "[3 4 5]\n",
      "[ 6  8 10]\n",
      "[[ 6  8 10]]\n"
     ]
    }
   ],
   "source": [
    "# 利用':'可以访问到某一维的全部数据，例如取矩阵中的指定列：\n",
    "\n",
    "a=np.arange(18).reshape(3,6)\n",
    "\n",
    "print a.shape\n",
    "print \"the 2nd and 4th column of a:\"\n",
    "print a\n",
    "print a[:,2]\n",
    "print a[:,[1,3]]\n",
    "print a[:,[0,2,3]]\n",
    "\n",
    "print a[0,0:4]\n",
    "print a[2,:]\n",
    "\n",
    "print a[0,3:]\n",
    "\n",
    "print a[1,::2]\n",
    "print a[1::2,::2]"
   ]
  },
  {
   "cell_type": "code",
   "execution_count": 92,
   "metadata": {
    "collapsed": false
   },
   "outputs": [
    {
     "name": "stdout",
     "output_type": "stream",
     "text": [
      "[[ 0  1  2  3  4  5]\n",
      " [ 6  7  8  9 10 11]\n",
      " [12 13 14 15 16 17]]\n",
      "[ 2  8 14]\n",
      "[ 0  6 12]\n",
      "[False  True  True]\n",
      "[ 8 14]\n"
     ]
    }
   ],
   "source": [
    "#将第一列大于5的元素（6和12）对应的第三列元素（8和14）取出来\n",
    "\n",
    "b=a[:, 2][a[:, 0] > 5]\n",
    "\n",
    "print a\n",
    "\n",
    "print a[:,2]\n",
    "\n",
    "print a[:, 0]\n",
    "\n",
    "print a[:, 0]>5\n",
    "\n",
    "print b"
   ]
  },
  {
   "cell_type": "code",
   "execution_count": 96,
   "metadata": {
    "collapsed": false
   },
   "outputs": [
    {
     "name": "stdout",
     "output_type": "stream",
     "text": [
      "(array([1]), array([5]))\n",
      "1\n",
      "5\n",
      "11\n"
     ]
    }
   ],
   "source": [
    "#使用where函数查找特定值在数组中的位置：\n",
    "\n",
    "loc = np.where(a==11)\n",
    "\n",
    "print loc\n",
    "\n",
    "print loc[0][0]\n",
    "print loc[1][0]\n",
    "\n",
    "print a[loc[0][0], loc[1][0]]\n"
   ]
  },
  {
   "cell_type": "code",
   "execution_count": 126,
   "metadata": {
    "collapsed": false
   },
   "outputs": [
    {
     "name": "stdout",
     "output_type": "stream",
     "text": [
      "[[2 3 4]\n",
      " [3 3 3]]\n",
      "<type 'tuple'>\n",
      "(array([0, 1, 1, 1]), array([1, 0, 1, 2]))\n"
     ]
    }
   ],
   "source": [
    "#NumPy采用组元(tuple)作为数组的下标\n",
    "\n",
    "a=np.array([2,3,4,3,3,3]).reshape(2,3)\n",
    "print a\n",
    "\n",
    "locs=np.where(a==3)\n",
    "\n",
    "print type(locs)\n",
    "print locs\n"
   ]
  },
  {
   "cell_type": "code",
   "execution_count": 128,
   "metadata": {
    "collapsed": false
   },
   "outputs": [
    {
     "name": "stdout",
     "output_type": "stream",
     "text": [
      "a:\n",
      "[[ 0.17278663  0.25900306  0.89424046  0.92049571]\n",
      " [ 0.1799206   0.22455902  0.08449189  0.43825688]]\n",
      "a is an array, by using transpose(a):\n",
      "[[ 0.17278663  0.1799206 ]\n",
      " [ 0.25900306  0.22455902]\n",
      " [ 0.89424046  0.08449189]\n",
      " [ 0.92049571  0.43825688]]\n",
      "b:\n",
      "[[ 0.16961255  0.95269589  0.24107463  0.37768379]\n",
      " [ 0.72657576  0.38020319  0.66187777  0.00818603]]\n",
      "[[ 0.16961255  0.72657576]\n",
      " [ 0.95269589  0.38020319]\n",
      " [ 0.24107463  0.66187777]\n",
      " [ 0.37768379  0.00818603]]\n"
     ]
    }
   ],
   "source": [
    "#矩阵转置\n",
    "\n",
    "a = np.random.rand(2,4)\n",
    "\n",
    "print \"a:\"\n",
    "\n",
    "print a\n",
    "\n",
    "a = np.transpose(a)\n",
    "\n",
    "print \"a is an array, by using transpose(a):\"\n",
    "\n",
    "print a\n",
    "\n",
    "b = np.random.rand(2,4)\n",
    "\n",
    "b = np.mat(b)\n",
    "\n",
    "print \"b:\"\n",
    "\n",
    "print b\n",
    "\n",
    "print np.transpose(b)"
   ]
  },
  {
   "cell_type": "code",
   "execution_count": 133,
   "metadata": {
    "collapsed": false
   },
   "outputs": [
    {
     "name": "stdout",
     "output_type": "stream",
     "text": [
      "a:\n",
      "[[ 0.57611988  0.76081625]\n",
      " [ 0.20378829  0.07775903]]\n",
      "inverse of a:\n",
      "[[-0.70531702  6.90102047]\n",
      " [ 1.84847149 -5.22572314]]\n",
      "a * inv(a)\n",
      "[[  1.00000000e+00   5.58464887e-17]\n",
      " [  1.00287991e-16   1.00000000e+00]]\n"
     ]
    }
   ],
   "source": [
    "#矩阵求逆\n",
    "\n",
    "import numpy.linalg as nlg\n",
    "\n",
    "a = np.random.rand(2,2)\n",
    "\n",
    "a = np.mat(a)\n",
    "\n",
    "print \"a:\"\n",
    "\n",
    "print a\n",
    "\n",
    "ia = nlg.inv(a)\n",
    "\n",
    "print \"inverse of a:\"\n",
    "\n",
    "print ia\n",
    "\n",
    "print \"a * inv(a)\"\n",
    "\n",
    "print a * nlg.inv(a)"
   ]
  },
  {
   "cell_type": "code",
   "execution_count": 135,
   "metadata": {
    "collapsed": false
   },
   "outputs": [
    {
     "name": "stdout",
     "output_type": "stream",
     "text": [
      "[[ 0.52652589  0.45279729  0.50755203]\n",
      " [ 0.94931349  0.76524137  0.21655319]\n",
      " [ 0.91410309  0.51169263  0.5146554 ]]\n",
      "eigen value:\n",
      "[ 1.74007155 -0.19797815  0.26432926]\n",
      "eigen vector:\n",
      "[[-0.48843556 -0.68018386  0.28796602]\n",
      " [-0.61349691  0.56549933 -0.78368293]\n",
      " [-0.62052578  0.46643373  0.55037863]]\n"
     ]
    }
   ],
   "source": [
    "#求特征值和特征向量\n",
    "\n",
    "a = np.random.rand(3,3)\n",
    "\n",
    "eig_value, eig_vector = nlg.eig(a)\n",
    "\n",
    "print a\n",
    "\n",
    "print \"eigen value:\"\n",
    "\n",
    "print eig_value\n",
    "\n",
    "print \"eigen vector:\"\n",
    "\n",
    "print eig_vector"
   ]
  },
  {
   "cell_type": "code",
   "execution_count": 136,
   "metadata": {
    "collapsed": false
   },
   "outputs": [
    {
     "name": "stdout",
     "output_type": "stream",
     "text": [
      "[[1 2]\n",
      " [2 3]\n",
      " [3 4]]\n"
     ]
    }
   ],
   "source": [
    "#按列拼接两个向量成一个矩阵：\n",
    "\n",
    "a = np.array((1,2,3))\n",
    "\n",
    "b = np.array((2,3,4))\n",
    "\n",
    "print np.column_stack((a,b))\n",
    " \n"
   ]
  },
  {
   "cell_type": "code",
   "execution_count": 138,
   "metadata": {
    "collapsed": false
   },
   "outputs": [
    {
     "name": "stdout",
     "output_type": "stream",
     "text": [
      "a:\n",
      "[[ 0.94923728  0.47602672]\n",
      " [ 0.55324291  0.21295194]]\n",
      "b:\n",
      "[[ 0.94923728  0.47602672]\n",
      " [ 0.55324291  0.21295194]]\n",
      "horizontal stacking a and b:\n",
      "[[ 0.94923728  0.47602672  0.43723851  0.95323217]\n",
      " [ 0.55324291  0.21295194  0.03692028  0.24293031]]\n",
      "[[ 0.94923728  0.47602672]\n",
      " [ 0.55324291  0.21295194]\n",
      " [ 0.43723851  0.95323217]\n",
      " [ 0.03692028  0.24293031]]\n"
     ]
    }
   ],
   "source": [
    "a = np.random.rand(2,2)\n",
    "\n",
    "b = np.random.rand(2,2)\n",
    "\n",
    "print \"a:\"\n",
    "\n",
    "print a\n",
    "\n",
    "print \"b:\"\n",
    "\n",
    "print a\n",
    "\n",
    "c = np.hstack([a,b])\n",
    "\n",
    "d = np.vstack([a,b])\n",
    "\n",
    "print \"horizontal stacking a and b:\"\n",
    "\n",
    "print c\n",
    "\n",
    "print d"
   ]
  },
  {
   "cell_type": "code",
   "execution_count": 141,
   "metadata": {
    "collapsed": false
   },
   "outputs": [
    {
     "name": "stdout",
     "output_type": "stream",
     "text": [
      "[[ 0.00479932  0.19602893]\n",
      " [ 0.28292913  0.16320551]]\n",
      "[[False  True]\n",
      " [False False]]\n",
      "[[ 0.00479932  0.        ]\n",
      " [ 0.28292913  0.16320551]]\n"
     ]
    }
   ],
   "source": [
    "#缺失值\n",
    "\n",
    "a = np.random.rand(2,2)\n",
    "\n",
    "print a\n",
    "\n",
    "a[0, 1] = np.nan\n",
    "\n",
    "print np.isnan(a)\n",
    "\n",
    "print np.nan_to_num(a)"
   ]
  },
  {
   "cell_type": "code",
   "execution_count": null,
   "metadata": {
    "collapsed": true
   },
   "outputs": [],
   "source": []
  }
 ],
 "metadata": {
  "kernelspec": {
   "display_name": "Python 2",
   "language": "python",
   "name": "python2"
  },
  "language_info": {
   "codemirror_mode": {
    "name": "ipython",
    "version": 2
   },
   "file_extension": ".py",
   "mimetype": "text/x-python",
   "name": "python",
   "nbconvert_exporter": "python",
   "pygments_lexer": "ipython2",
   "version": "2.7.6"
  }
 },
 "nbformat": 4,
 "nbformat_minor": 0
}
