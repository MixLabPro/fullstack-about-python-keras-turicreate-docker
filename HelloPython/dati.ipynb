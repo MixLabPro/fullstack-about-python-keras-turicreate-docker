{
 "cells": [
  {
   "cell_type": "markdown",
   "metadata": {},
   "source": [
    "#### https://www.w3cschool.cn/python/"
   ]
  },
  {
   "cell_type": "code",
   "execution_count": 159,
   "metadata": {},
   "outputs": [],
   "source": [
    "from  jieba import lcut as jc"
   ]
  },
  {
   "cell_type": "code",
   "execution_count": 160,
   "metadata": {},
   "outputs": [],
   "source": [
    "import json\n",
    "def printJson(ky):\n",
    "    print(json.dumps(ky,ensure_ascii=False, encoding='UTF-8'))\n",
    "   "
   ]
  },
  {
   "cell_type": "code",
   "execution_count": 161,
   "metadata": {},
   "outputs": [],
   "source": [
    "import jieba.analyse as ja\n",
    "# 这里使用jieba的textrank提取出_topK个关键词及其比重,默认参数的写法如下 \n",
    "\n",
    "def getKeywords(_txts,_topK=1000):\n",
    "      \n",
    "    _res = ja.textrank(_txts, topK=_topK, withWeight=True)\n",
    "    \n",
    "    \n",
    "    print(_res)\n",
    "\n",
    "    # 生成关键词比重字典\n",
    "    _keywords = dict()\n",
    "    for i in _res:\n",
    "        _k=i[0]\n",
    "        _keywords[_k] = i[1]\n",
    "\n",
    "    printJson(_keywords)\n",
    "    \n",
    "    return _keywords\n",
    "\n"
   ]
  },
  {
   "cell_type": "code",
   "execution_count": 162,
   "metadata": {},
   "outputs": [],
   "source": [
    "import requests\n",
    "\n",
    "__url = 'http://www.baidu.com/s?wd='  # 搜索请求网址\n",
    "\n",
    "\n",
    "def page(word):\n",
    "    r = requests.get(__url + word)\n",
    "    if r.status_code == 200:  # 请求错误（不是200）处理\n",
    "        return r.text\n",
    "    else:\n",
    "        print(r.status_code)\n",
    "        return False\n"
   ]
  },
  {
   "cell_type": "code",
   "execution_count": 178,
   "metadata": {},
   "outputs": [],
   "source": [
    "import requests\n",
    "from bs4 import BeautifulSoup\n",
    "\n",
    "def init(html):\n",
    "    # 初始化\n",
    "    #print help(BeautifulSoup)\n",
    "    soup = BeautifulSoup(html, 'html5lib')\n",
    "    results = []\n",
    "\n",
    "    # 获取结果来源\n",
    "    result_set = soup.find(id='content_left')  # 结果全显示在页面左边\n",
    "    result_set = result_set.find_all('div', class_='c-container')  # 结果class固定，其余为硬广\n",
    "\n",
    "    for i in range(len(result_set)):  # 因为要index所以就用range来\n",
    "        result = result_set[i]  # 其实就是result_div\n",
    "\n",
    "        abstract = __get_abstract(result)\n",
    "           \n",
    "        results.append(abstract)\n",
    "    \n",
    "    return results\n",
    "\n",
    "# 获取abstract\n",
    "def __get_abstract(result_div):\n",
    "    if 'result-op' not in result_div['class']:  # 不是软广\n",
    "        r_from = result_div.find(class_='c-abstract')\n",
    "        if not r_from:\n",
    "            return u'-'\n",
    "        for em in r_from.find_all('em'):  # 移除abstract中的em标签\n",
    "            em.unwrap()\n",
    "        #print 0\n",
    "       # print r_from.get_text()\n",
    "        return r_from.get_text()\n",
    "    else:\n",
    "        return u'-'  # 其实是因为太麻烦\n",
    "\n",
    "\n",
    "    "
   ]
  },
  {
   "cell_type": "code",
   "execution_count": 164,
   "metadata": {},
   "outputs": [],
   "source": [
    "def search(keyword):\n",
    "    _page = page(keyword)\n",
    "    results = init(_page)\n",
    "    \n",
    "    return results\n"
   ]
  },
  {
   "cell_type": "code",
   "execution_count": 165,
   "metadata": {},
   "outputs": [],
   "source": []
  },
  {
   "cell_type": "code",
   "execution_count": 166,
   "metadata": {},
   "outputs": [
    {
     "name": "stdout",
     "output_type": "stream",
     "text": [
      "涂经纬 0\n",
      "撒贝娜 0\n",
      "任雪 0\n",
      "李思思 0\n"
     ]
    }
   ],
   "source": [
    "for ans in answers:\n",
    "    print ans,_txts.count(ans)"
   ]
  },
  {
   "cell_type": "code",
   "execution_count": 180,
   "metadata": {},
   "outputs": [],
   "source": [
    "def guessAnswer(question,answers):\n",
    "    _res=search(question)\n",
    "    #print _res\n",
    "    _strs=''.join(_res)\n",
    "    _guess={}\n",
    "    \n",
    "    for ans in answers:\n",
    "        _guess[ans]=_strs.count(ans)\n",
    "        print ans,_strs.count(ans)\n",
    "    \n",
    "    return _guess\n"
   ]
  },
  {
   "cell_type": "markdown",
   "metadata": {},
   "source": [
    "## 封装成函数"
   ]
  },
  {
   "cell_type": "markdown",
   "metadata": {},
   "source": [
    "### 1 简单的统计答案"
   ]
  },
  {
   "cell_type": "code",
   "execution_count": 169,
   "metadata": {},
   "outputs": [],
   "source": [
    "question=u'下列哪个戏种被称为中国的百戏之祖'\n",
    "answers=[u'黄梅戏',u'越剧',u'昆曲']"
   ]
  },
  {
   "cell_type": "code",
   "execution_count": 171,
   "metadata": {},
   "outputs": [],
   "source": [
    "question=u'撒贝宁的姐妹是'\n",
    "answers=[u'涂经纬',u'撒贝娜',u'任雪',u'李思思']\n"
   ]
  },
  {
   "cell_type": "code",
   "execution_count": 181,
   "metadata": {},
   "outputs": [
    {
     "name": "stdout",
     "output_type": "stream",
     "text": [
      "涂经纬 0\n",
      "撒贝娜 4\n",
      "任雪 0\n",
      "李思思 0\n"
     ]
    },
    {
     "data": {
      "text/plain": [
       "{u'\\u4efb\\u96ea': 0,\n",
       " u'\\u6492\\u8d1d\\u5a1c': 4,\n",
       " u'\\u674e\\u601d\\u601d': 0,\n",
       " u'\\u6d82\\u7ecf\\u7eac': 0}"
      ]
     },
     "execution_count": 181,
     "metadata": {},
     "output_type": "execute_result"
    }
   ],
   "source": [
    "guessAnswer(question,answers)"
   ]
  },
  {
   "cell_type": "markdown",
   "metadata": {},
   "source": [
    "### 2 效果更好的方法"
   ]
  },
  {
   "cell_type": "code",
   "execution_count": 101,
   "metadata": {},
   "outputs": [],
   "source": [
    "question=u'如果我们长期在很高的氧浓度下呼吸，会？'\n",
    "answers=[u'A 觉得轻飘飘的',u'B 脑中毒，精神混乱，记忆丧失',u'C 感觉很舒服，增强免疫力']"
   ]
  },
  {
   "cell_type": "code",
   "execution_count": 103,
   "metadata": {},
   "outputs": [
    {
     "name": "stdout",
     "output_type": "stream",
     "text": [
      "A 觉得轻飘飘的 1015\n",
      "B 脑中毒，精神混乱，记忆丧失 4908\n",
      "C 感觉很舒服，增强免疫力 2956\n"
     ]
    }
   ],
   "source": [
    "_res=search(question)\n",
    "_strs=''.join(_res)\n",
    "\n",
    "_ans_n={}\n",
    "\n",
    "for index in range(len(answers)):\n",
    "    seg_list=jc(answers[index],cut_all=True)\n",
    "    \n",
    "    #print seg_list\n",
    "    for s in seg_list:\n",
    "        _c=_strs.count(s)\n",
    "        _ans_n[index]=_ans_n.get(index,0)+_c\n",
    "\n",
    "\n",
    "\n",
    "for index in range(len(answers)):\n",
    "    print answers[index],_ans_n[index]\n",
    "\n",
    "\n",
    "    "
   ]
  },
  {
   "cell_type": "code",
   "execution_count": 105,
   "metadata": {},
   "outputs": [],
   "source": [
    "def guessAnswer2(question,answers):\n",
    "    _res=search(question)\n",
    "    _strs=''.join(_res)\n",
    "\n",
    "    _ans_n={}\n",
    "\n",
    "    for index in range(len(answers)):\n",
    "        seg_list=jc(answers[index],cut_all=True)\n",
    "\n",
    "        #print seg_list\n",
    "        for s in seg_list:\n",
    "            _c=_strs.count(s)\n",
    "            _ans_n[index]=_ans_n.get(index,0)+_c\n",
    "\n",
    "\n",
    "\n",
    "    for index in range(len(answers)):\n",
    "        print answers[index],_ans_n[index]\n"
   ]
  },
  {
   "cell_type": "code",
   "execution_count": 106,
   "metadata": {},
   "outputs": [
    {
     "name": "stdout",
     "output_type": "stream",
     "text": [
      "A、选桃子的 1029\n",
      "B、选榴莲的 1027\n"
     ]
    }
   ],
   "source": [
    "question=u'西游记里《真假美猴王》一回里，最后两只猴子去到如来那里，如来为了辨别真假想了一个办法，他拿出一个桃子和一个榴莲任其选择，结果一个选了桃子，一个选了榴莲，请问谁才是真的孙悟空？为什么？'\n",
    "answers=[u'A、选桃子的',u'B、选榴莲的']\n",
    "guessAnswer2(question,answers)"
   ]
  },
  {
   "cell_type": "code",
   "execution_count": 108,
   "metadata": {},
   "outputs": [
    {
     "name": "stdout",
     "output_type": "stream",
     "text": [
      "A、熟碱水 852\n",
      "B、纯碱 852\n",
      "C、老碱 884\n",
      "D、烧碱 856\n"
     ]
    }
   ],
   "source": [
    "question=u'在工业上，通常用电解盐溶液的方法来制取氯气，而最广泛的不免是\"氯碱工业\"。请问，氯碱工业中，氯指的是氯气，碱指的是什么呢？'\n",
    "answers=[u'A、熟碱水',u'B、纯碱',u'C、老碱',u'D、烧碱']\n",
    "guessAnswer2(question,answers)"
   ]
  },
  {
   "cell_type": "markdown",
   "metadata": {},
   "source": [
    "## V3 文本关联相似度分析\n",
    "\n",
    "对于答题这样的项目，首先一个问题，然后有三个答案可以选择，能不能通过分别统计问题与三个答案的关联度来选择出正确的答案，由于数据采集是来自百度的，可能会受到部分广告数据的影响，但是在集合相当大的情况下，关联度还是会呈现正相关。\n",
    "\n",
    "假设题目是： \n",
    "\n",
    "*中国历史上著名的科举制度开始于那个朝代？*\n",
    "- 汉朝\n",
    "- 唐朝\n",
    "- 隋朝\n",
    "\n",
    "我们先用百度分别搜索`汉朝`，`唐朝`，`隋朝`，得到如下数据：\n",
    "\n",
    "朝代 | 搜索出的数量（来自百度为您找到相关结果约）\n",
    "---- | ------------------------------------------\n",
    "汉朝 | 18600000\n",
    "唐朝 | 27000000\n",
    "隋朝 | 14600000\n",
    "\n",
    "然后我们在用`题目` + 答案的方式，搜索示例：\n",
    "\n",
    "`中国历史上著名的科举制度开始于那个朝代？ 汉朝` 得到三次的搜索结果：\n",
    "\n",
    " 关键字  | 搜索出的数量（来自百度为您找到相关结果约）\n",
    "-------- | ------------------------------------------\n",
    "Q + 汉朝 | 200000\n",
    "Q + 唐朝 | 274000\n",
    "Q + 隋朝 | 220000\n",
    "\n",
    "关联度计算方式：\n",
    "\n",
    "``` shell\n",
    "K = count(Q&A) / (count(Q) * count(A))\n",
    "```\n",
    "\n",
    "关联度如下：\n",
    "\n",
    "答案 | 关联度\n",
    "---- | ------\n",
    "汉朝 | 0.0273\n",
    "唐朝 | 0.0258\n",
    "隋朝 | 0.0383\n"
   ]
  },
  {
   "cell_type": "code",
   "execution_count": 120,
   "metadata": {},
   "outputs": [
    {
     "name": "stdout",
     "output_type": "stream",
     "text": [
      "汉朝 1\n",
      "唐朝 6\n",
      "隋朝 7\n"
     ]
    }
   ],
   "source": [
    "question=u'中国历史上著名的科举制度开始于那个朝代'\n",
    "answers=[u'汉朝',u'唐朝',u'隋朝']\n",
    "guessAnswer2(question,answers)"
   ]
  },
  {
   "cell_type": "code",
   "execution_count": 150,
   "metadata": {},
   "outputs": [],
   "source": [
    "question=u'氯碱工业中，氯指的是氯气，碱指的是什么呢？'\n",
    "answers=[u'A、熟碱水',u'B、纯碱',u'C、老碱',u'D、烧碱']"
   ]
  },
  {
   "cell_type": "code",
   "execution_count": 156,
   "metadata": {},
   "outputs": [],
   "source": [
    "question=u'撒贝宁的姐妹是'\n",
    "answers=[u'涂经纬',u'撒贝娜',u'任雪',u'李思思']"
   ]
  },
  {
   "cell_type": "code",
   "execution_count": 146,
   "metadata": {},
   "outputs": [],
   "source": [
    "import requests\n",
    "from bs4 import BeautifulSoup\n",
    "\n",
    "def get_count(html):\n",
    "    # 初始化\n",
    "    soup = BeautifulSoup(html, 'html5lib')\n",
    "    nums =__get_nums(soup)      \n",
    "          \n",
    "    return nums\n",
    "\n",
    "# 获取搜索结果的数量\n",
    "def __get_nums(result_div):\n",
    "    _r=result_div.find(class_='nums').get_text()\n",
    "    return _r\n",
    "    \n"
   ]
  },
  {
   "cell_type": "code",
   "execution_count": 147,
   "metadata": {},
   "outputs": [],
   "source": [
    "def search_countBy(keyword):\n",
    "    _page = page(keyword)\n",
    "    results = get_count(_page)\n",
    "    \n",
    "    return results\n"
   ]
  },
  {
   "cell_type": "code",
   "execution_count": 123,
   "metadata": {},
   "outputs": [],
   "source": [
    "_p=search_countBy(question)"
   ]
  },
  {
   "cell_type": "code",
   "execution_count": 126,
   "metadata": {},
   "outputs": [
    {
     "name": "stdout",
     "output_type": "stream",
     "text": [
      "['1.45', '5', '6.45', '8.82']\n",
      "3930000\n"
     ]
    }
   ],
   "source": [
    "##从字符串提取数字\n",
    "\n",
    "import re\n",
    " \n",
    "string=\"A1.45，b5，6.45，8.82\"\n",
    "\n",
    "print re.findall(r\"\\d+\\.?\\d*\",string)\n",
    "\n",
    "print ''.join(re.findall(r\"\\d+\\.?\\d*\",_p))\n",
    "\n"
   ]
  },
  {
   "cell_type": "code",
   "execution_count": 148,
   "metadata": {},
   "outputs": [],
   "source": [
    "import re\n",
    "def getNumFromStr(_str):\n",
    "    _numstr=''.join(re.findall(r\"\\d+\\.?\\d*\",_str))\n",
    "    _numstr=_numstr.encode(\"utf-8\")\n",
    "    _num=float(_numstr)\n",
    "    return _num"
   ]
  },
  {
   "cell_type": "code",
   "execution_count": 157,
   "metadata": {},
   "outputs": [
    {
     "name": "stdout",
     "output_type": "stream",
     "text": [
      "{0: 292000.0, 1: 33700.0, 2: 1740000.0, 3: 5400000.0} {0: 5800.0, 1: 19100.0, 2: 3.0, 3: 22200.0}\n",
      "2.18274875809e-08\n",
      "6.22819317181e-07\n",
      "1.89465706707e-12\n",
      "4.5177045177e-09\n"
     ]
    }
   ],
   "source": [
    "As={}\n",
    "\n",
    "QAs={}\n",
    "\n",
    "Q=getNumFromStr(search_countBy(question))\n",
    "\n",
    "for index in range(len(answers)):\n",
    "    _strs=question+answers[index]\n",
    "    _p=search_countBy(_strs)\n",
    "    _n=getNumFromStr(_p)\n",
    "    QAs[index]=_n\n",
    "\n",
    "for index in range(len(answers)):\n",
    "    _strs=answers[index]\n",
    "    _p=search_countBy(_strs)\n",
    "    _n=getNumFromStr(_p)\n",
    "    As[index]=_n\n",
    "    \n",
    "print As,QAs\n",
    "\n",
    "for index in range(len(QAs)):\n",
    "    _K=QAs[index]/(Q*As[index])\n",
    "    print _K"
   ]
  },
  {
   "cell_type": "code",
   "execution_count": 158,
   "metadata": {},
   "outputs": [
    {
     "name": "stdout",
     "output_type": "stream",
     "text": [
      "-17.6400957632\n",
      "-14.2890093808\n",
      "-26.991983261\n",
      "-19.2152618222\n"
     ]
    }
   ],
   "source": [
    "#float(QAs[0])/float(Q*As[0])\n",
    "#int()\n",
    "import math\n",
    "\n",
    "print math.log( 2.18274875809e-08 )\n",
    "print math.log( 6.22819317181e-07 )\n",
    "print math.log( 1.89465706707e-12 )\n",
    "print math.log( 4.5177045177e-09 )"
   ]
  },
  {
   "cell_type": "markdown",
   "metadata": {},
   "source": [
    "## END ------------------------"
   ]
  },
  {
   "cell_type": "code",
   "execution_count": 13,
   "metadata": {},
   "outputs": [
    {
     "name": "stdout",
     "output_type": "stream",
     "text": [
      "<type 'list'>\n",
      "<type 'unicode'>\n"
     ]
    }
   ],
   "source": [
    "print type(res)\n",
    "_txts=''.join(res)\n",
    "print type(_txts)"
   ]
  },
  {
   "cell_type": "code",
   "execution_count": 38,
   "metadata": {},
   "outputs": [
    {
     "name": "stdout",
     "output_type": "stream",
     "text": [
      "2\n"
     ]
    }
   ],
   "source": [
    "str2=u'越剧黄梅戏昆曲黄梅戏'\n",
    "print str2.count(u'黄梅戏')"
   ]
  },
  {
   "cell_type": "code",
   "execution_count": 35,
   "metadata": {},
   "outputs": [
    {
     "name": "stdout",
     "output_type": "stream",
     "text": [
      "要统计的句子:\n",
      "中文 啊 是 中文 把 哈哈 真的是中文 中文\n",
      "-----------------------------------\n",
      "[u'\\u4e2d\\u6587', u'\\u554a', u'\\u662f', u'\\u4e2d\\u6587', u'\\u628a', u'\\u54c8\\u54c8', u'\\u771f\\u7684\\u662f\\u4e2d\\u6587', u'\\u4e2d\\u6587']\n",
      "文\n",
      "啊\n",
      "是\n",
      "文\n",
      "把\n",
      "哈\n",
      "文\n",
      "文\n",
      "处理后的句子:\n",
      "[u'\\u4e2d\\u6587', u'\\u554a', u'\\u662f', u'\\u4e2d\\u6587', u'\\u628a', u'\\u54c8\\u54c8', u'\\u771f\\u7684\\u662f\\u4e2d\\u6587', u'\\u4e2d\\u6587']\n",
      "-----------------------------------\n",
      "词频统计结果如下:\n",
      "中文         3\n",
      "哈哈         1\n",
      "啊          1\n",
      "把          1\n",
      "是          1\n",
      "真的是中文      1\n"
     ]
    }
   ],
   "source": [
    "# 统计词频\n",
    "str1 = u\"中文 啊 是 中文 把 哈哈 真的是中文 中文\"\n",
    "print \"要统计的句子:\"\n",
    "print str1\n",
    "print '-----------------------------------'\n",
    "\n",
    "# 按照空格把句子切分成List\n",
    "wordList1 = str1.split(None)\n",
    "print wordList1\n",
    "# strip any punctuation marks and build modified word list\n",
    "# start with an empty list\n",
    "wordList2 = []\n",
    "for word1 in wordList1:\n",
    "  # 每个词的最后一个字符\n",
    "  lastchar = word1[-1:]\n",
    "    \n",
    "  print lastchar\n",
    "        \n",
    "  # 去除标点符号\n",
    "  if lastchar in [\",\", \".\", \"!\", \"?\", \";\"]:\n",
    "    word2 = word1.rstrip(lastchar)\n",
    "  else:\n",
    "    word2 = word1\n",
    "    \n",
    "  # 处理后的List2\n",
    "  wordList2.append(word2.lower())\n",
    "    \n",
    "print \"处理后的句子:\"\n",
    "print wordList2\n",
    "print '-----------------------------------'\n",
    "\n",
    "\n",
    "# 创建一个统计词频的字典\n",
    "freqD2 = {}\n",
    "\n",
    "for word in wordList2:\n",
    "  freqD2[word] = freqD2.get(word, 0) + 1\n",
    "\n",
    "# 获取关键词，并且排序\n",
    "keyList = freqD2.keys()\n",
    "keyList.sort()\n",
    "print \"词频统计结果如下:\"\n",
    "for key in keyList:\n",
    " print \"%-10s %d\" % (key, freqD2[key])"
   ]
  },
  {
   "cell_type": "code",
   "execution_count": 34,
   "metadata": {},
   "outputs": [
    {
     "name": "stdout",
     "output_type": "stream",
     "text": [
      "1\n",
      "9\n",
      "[8, 0, 1]\n",
      "[8, 0, 1]\n",
      "[0, 1, 8]\n"
     ]
    }
   ],
   "source": [
    "p={ 8:2,\n",
    "    0:1,\n",
    "    1:2\n",
    "}\n",
    "\n",
    "print p.get(0,2)\n",
    "print p.get(3,9)\n",
    "\n",
    "print p.keys()\n",
    "k=p.keys()\n",
    "print k\n",
    "k.sort()\n",
    "print k"
   ]
  },
  {
   "cell_type": "code",
   "execution_count": 14,
   "metadata": {},
   "outputs": [
    {
     "name": "stdout",
     "output_type": "stream",
     "text": [
      "[(u'\\u4e2d\\u56fd', 1.0), (u'\\u767e\\u620f', 0.8827857889238552), (u'\\u79f0\\u4e3a', 0.8291497982774364), (u'\\u821e\\u8e48', 0.5676589617532118), (u'\\u5267\\u79cd', 0.47083398897479467), (u'\\u6606\\u66f2', 0.45634161803502565), (u'\\u620f\\u66f2', 0.4512751943350847), (u'\\u4e3a\\u4e3b', 0.3312752803425379), (u'\\u620f\\u5267', 0.3223009194137544), (u'\\u6606\\u5c71', 0.30258538956543507), (u'\\u8868\\u6f14', 0.29873761641016217), (u'\\u6587\\u5b66\\u53f2', 0.28407592872864273), (u'\\u827a\\u672f', 0.2821143319951763), (u'\\u4f53\\u7cfb', 0.28073152466487644), (u'\\u4eac\\u5267', 0.26842595084631726), (u'\\u7269\\u8d28', 0.26838516933595064), (u'\\u6587\\u5316\\u9057\\u4ea7', 0.26747106338531107), (u'\\u620f\\u79cd', 0.24659667542422972), (u'\\u5370\\u5ea6', 0.2353710253501502), (u'\\u6709\\u5173', 0.2263407259956725), (u'\\u7ea2\\u5305', 0.2263407259956725), (u'\\u6d3b\\u5316\\u77f3', 0.2262766351714662), (u'\\u6c5f\\u5357', 0.2262766351714662), (u'\\u6587\\u5316', 0.22529885543214437), (u'\\u73b0\\u91d1', 0.22529885543214437), (u'\\u6781\\u5177', 0.22464346422434706), (u'\\u4e2d\\u56fd\\u620f\\u66f2', 0.22464346422434706), (u'\\u6210\\u8bed', 0.22413887495585866), (u'\\u73a9\\u6e38\\u620f', 0.22413887495585866), (u'\\u827a\\u672f\\u6d41\\u6d3e', 0.22235147266682648), (u'\\u7eb7\\u5448', 0.22130121893313034), (u'\\u620f\\u66f2\\u53f2', 0.21781143015879248), (u'\\u4f5c\\u8005', 0.21311387421705766), (u'\\u5360\\u6709', 0.2127115905892728), (u'\\u5386\\u53f2', 0.21255893574392581), (u'\\u4e16\\u754c', 0.21090329790701107), (u'\\u66f2\\u5531', 0.2100663897646374), (u'\\u821e\\u53f0', 0.19671425813880025), (u'\\u98d8\\u9038', 0.19574806348049656), (u'\\u7f6e\\u666f', 0.1908350369932786), (u'\\u54c1\\u79cd', 0.1890554831858949), (u'\\u4ea7\\u751f', 0.18803182237438193), (u'\\u4ee3\\u8868\\u4f5c', 0.18292574119316027), (u'\\u4eba\\u7c7b', 0.18292574119316027), (u'\\u82cf\\u5dde', 0.1798653153274329), (u'\\u63c9\\u5408', 0.17693055738839736), (u'\\u8fbe\\u5230', 0.17376932428683314), (u'\\u8ddd\\u4eca\\u5df2\\u6709', 0.17083910965796567), (u'\\u68a6\\u5e7b', 0.16894305159176146), (u'\\u67e5\\u770b', 0.16890315242820925), (u'\\u5168\\u6587', 0.1678839114120286), (u'\\u6765\\u6e90', 0.15505598773994686), (u'\\u53e4\\u5e0c\\u814a', 0.14507024910189606), (u'\\u4e00\\u4f53', 0.14243957524224912), (u'\\u5531\\u5ff5', 0.14009210649926881), (u'\\u4e0b\\u5217', 0.1397594881089226), (u'\\u5883\\u754c', 0.13884628567078108), (u'\\u5e0c\\u814a', 0.13291416212240287), (u'\\u6c5f\\u82cf', 0.12755080862828252), (u'\\u9898\\u6750', 0.1256207584475135), (u'\\u6e90\\u4e8e', 0.12527534351142172), (u'\\u5ff5\\u767d', 0.12411636104668684), (u'\\u65f6\\u95f4', 0.12322539095028812), (u'\\u5730\\u4f4d', 0.12305442040847957), (u'\\u8868\\u6f14\\u827a\\u672f', 0.121496295837154), (u'\\u6b66\\u672f', 0.1207439653833131), (u'\\u73b0\\u5b58', 0.1186719393769706), (u'\\u5531\\u8154', 0.1148542178529662), (u'\\u6700\\u4f73\\u7b54\\u6848', 0.11424124845142825), (u'\\u66f2\\u79cd', 0.10470799664146348), (u'\\u6d3b\\u8dc3', 0.10062455541269617), (u'\\u53d1\\u6e90', 0.10021185445352968), (u'\\u88ab\\u8a89\\u4e3a', 0.09837880304868125), (u'\\u5ddd\\u5267', 0.08835366087651475), (u'\\u56fd\\u82b1', 0.08343401025689762), (u'\\u95ee\\u9898', 0.08035585243068884), (u'\\u5f71\\u54cd', 0.07957074602337026), (u'\\u8bc4\\u4ef7', 0.06886822898833475), (u'\\u6b66\\u5723', 0.05670415424610182)]\n",
      "{\"达到\": 0.17376932428683314, \"国花\": 0.08343401025689762, \"活化石\": 0.2262766351714662, \"境界\": 0.13884628567078108, \"戏剧\": 0.3223009194137544, \"希腊\": 0.13291416212240287, \"梦幻\": 0.16894305159176146, \"世界\": 0.21090329790701107, \"舞蹈\": 0.5676589617532118, \"揉合\": 0.17693055738839736, \"现金\": 0.22529885543214437, \"时间\": 0.12322539095028812, \"评价\": 0.06886822898833475, \"为主\": 0.3312752803425379, \"曲种\": 0.10470799664146348, \"题材\": 0.1256207584475135, \"代表作\": 0.18292574119316027, \"戏曲\": 0.4512751943350847, \"武术\": 0.1207439653833131, \"发源\": 0.10021185445352968, \"戏种\": 0.24659667542422972, \"唱念\": 0.14009210649926881, \"置景\": 0.1908350369932786, \"文学史\": 0.28407592872864273, \"古希腊\": 0.14507024910189606, \"有关\": 0.2263407259956725, \"占有\": 0.2127115905892728, \"川剧\": 0.08835366087651475, \"表演\": 0.29873761641016217, \"纷呈\": 0.22130121893313034, \"活跃\": 0.10062455541269617, \"江南\": 0.2262766351714662, \"飘逸\": 0.19574806348049656, \"极具\": 0.22464346422434706, \"中国\": 1.0, \"文化遗产\": 0.26747106338531107, \"剧种\": 0.47083398897479467, \"地位\": 0.12305442040847957, \"源于\": 0.12527534351142172, \"全文\": 0.1678839114120286, \"京剧\": 0.26842595084631726, \"体系\": 0.28073152466487644, \"文化\": 0.22529885543214437, \"艺术\": 0.2821143319951763, \"唱腔\": 0.1148542178529662, \"玩游戏\": 0.22413887495585866, \"红包\": 0.2263407259956725, \"江苏\": 0.12755080862828252, \"品种\": 0.1890554831858949, \"历史\": 0.21255893574392581, \"问题\": 0.08035585243068884, \"物质\": 0.26838516933595064, \"武圣\": 0.05670415424610182, \"现存\": 0.1186719393769706, \"中国戏曲\": 0.22464346422434706, \"人类\": 0.18292574119316027, \"下列\": 0.1397594881089226, \"成语\": 0.22413887495585866, \"念白\": 0.12411636104668684, \"昆山\": 0.30258538956543507, \"昆曲\": 0.45634161803502565, \"产生\": 0.18803182237438193, \"曲唱\": 0.2100663897646374, \"查看\": 0.16890315242820925, \"一体\": 0.14243957524224912, \"称为\": 0.8291497982774364, \"最佳答案\": 0.11424124845142825, \"戏曲史\": 0.21781143015879248, \"苏州\": 0.1798653153274329, \"舞台\": 0.19671425813880025, \"作者\": 0.21311387421705766, \"印度\": 0.2353710253501502, \"影响\": 0.07957074602337026, \"表演艺术\": 0.121496295837154, \"百戏\": 0.8827857889238552, \"距今已有\": 0.17083910965796567, \"艺术流派\": 0.22235147266682648, \"来源\": 0.15505598773994686, \"被誉为\": 0.09837880304868125}\n"
     ]
    }
   ],
   "source": [
    "#print printJson(res)\n",
    "#_txts=''.join(res)\n",
    "#_kys=getKeywords(_txts,100)"
   ]
  },
  {
   "cell_type": "code",
   "execution_count": 16,
   "metadata": {},
   "outputs": [
    {
     "name": "stdout",
     "output_type": "stream",
     "text": [
      "{\"达到\": 0.17376932428683314, \"国花\": 0.08343401025689762, \"活化石\": 0.2262766351714662, \"境界\": 0.13884628567078108, \"戏剧\": 0.3223009194137544, \"希腊\": 0.13291416212240287, \"梦幻\": 0.16894305159176146, \"世界\": 0.21090329790701107, \"舞蹈\": 0.5676589617532118, \"揉合\": 0.17693055738839736, \"现金\": 0.22529885543214437, \"时间\": 0.12322539095028812, \"评价\": 0.06886822898833475, \"为主\": 0.3312752803425379, \"曲种\": 0.10470799664146348, \"题材\": 0.1256207584475135, \"代表作\": 0.18292574119316027, \"戏曲\": 0.4512751943350847, \"武术\": 0.1207439653833131, \"发源\": 0.10021185445352968, \"戏种\": 0.24659667542422972, \"唱念\": 0.14009210649926881, \"置景\": 0.1908350369932786, \"文学史\": 0.28407592872864273, \"古希腊\": 0.14507024910189606, \"有关\": 0.2263407259956725, \"占有\": 0.2127115905892728, \"川剧\": 0.08835366087651475, \"表演\": 0.29873761641016217, \"纷呈\": 0.22130121893313034, \"活跃\": 0.10062455541269617, \"江南\": 0.2262766351714662, \"飘逸\": 0.19574806348049656, \"极具\": 0.22464346422434706, \"中国\": 1.0, \"文化遗产\": 0.26747106338531107, \"剧种\": 0.47083398897479467, \"地位\": 0.12305442040847957, \"源于\": 0.12527534351142172, \"全文\": 0.1678839114120286, \"京剧\": 0.26842595084631726, \"体系\": 0.28073152466487644, \"文化\": 0.22529885543214437, \"艺术\": 0.2821143319951763, \"唱腔\": 0.1148542178529662, \"玩游戏\": 0.22413887495585866, \"红包\": 0.2263407259956725, \"江苏\": 0.12755080862828252, \"品种\": 0.1890554831858949, \"历史\": 0.21255893574392581, \"问题\": 0.08035585243068884, \"物质\": 0.26838516933595064, \"武圣\": 0.05670415424610182, \"现存\": 0.1186719393769706, \"中国戏曲\": 0.22464346422434706, \"人类\": 0.18292574119316027, \"下列\": 0.1397594881089226, \"成语\": 0.22413887495585866, \"念白\": 0.12411636104668684, \"昆山\": 0.30258538956543507, \"昆曲\": 0.45634161803502565, \"产生\": 0.18803182237438193, \"曲唱\": 0.2100663897646374, \"查看\": 0.16890315242820925, \"一体\": 0.14243957524224912, \"称为\": 0.8291497982774364, \"最佳答案\": 0.11424124845142825, \"戏曲史\": 0.21781143015879248, \"苏州\": 0.1798653153274329, \"舞台\": 0.19671425813880025, \"作者\": 0.21311387421705766, \"印度\": 0.2353710253501502, \"影响\": 0.07957074602337026, \"表演艺术\": 0.121496295837154, \"百戏\": 0.8827857889238552, \"距今已有\": 0.17083910965796567, \"艺术流派\": 0.22235147266682648, \"来源\": 0.15505598773994686, \"被誉为\": 0.09837880304868125}\n"
     ]
    }
   ],
   "source": []
  },
  {
   "cell_type": "code",
   "execution_count": 66,
   "metadata": {},
   "outputs": [
    {
     "name": "stdout",
     "output_type": "stream",
     "text": [
      "[<__main__.Result object at 0x7f2dcb7609d0>, <__main__.Result object at 0x7f2dcb7e12d0>, <__main__.Result object at 0x7f2dcb7c7e90>, <__main__.Result object at 0x7f2dcb7e1f50>, <__main__.Result object at 0x7f2dcb7f6310>, <__main__.Result object at 0x7f2dcb7f6850>, <__main__.Result object at 0x7f2dcb7f6c50>, <__main__.Result object at 0x7f2dcb7f6fd0>, <__main__.Result object at 0x7f2dcb78f590>, <__main__.Result object at 0x7f2dcb78f3d0>]\n",
      "<type 'str'>\n",
      "\n",
      "efe\n",
      "<type 'unicode'>\n",
      "\n",
      "<type 'unicode'>\n",
      "\n",
      "<type 'unicode'>\n",
      "\n",
      "<type 'unicode'>\n",
      "\n",
      "<type 'unicode'>\n",
      "\n",
      "<type 'unicode'>\n",
      "\n",
      "<type 'unicode'>\n",
      "\n",
      "<type 'unicode'>\n",
      "\n",
      "<type 'str'>\n",
      "\n",
      "efe\n",
      "<type 'list'>\n",
      "[]\n",
      "{}\n"
     ]
    },
    {
     "data": {
      "text/plain": [
       "{}"
      ]
     },
     "execution_count": 66,
     "metadata": {},
     "output_type": "execute_result"
    }
   ],
   "source": [
    "count = 0\n",
    "\n",
    "strs=[]\n",
    "\n",
    "print res\n",
    "\n",
    "for r in res:\n",
    "    \n",
    "    #print('{0} {1} {2} {3} {4}'.format(result.index, result.title, result.abstract, result.show_url, result.url))  # 此处应有格式化输出\n",
    "    \n",
    "    a=(r.abstract)\n",
    "    #strs.append(a)\n",
    "   \n",
    "    #a=a.encode(\"utf-8\")\n",
    "    print type(a)\n",
    "    print \n",
    "    if isinstance(a,str):\n",
    "        print 'efe'\n",
    "       # a=a.encode('utf-8')\n",
    "        \n",
    "        strs.append(a)\n",
    "    else:\n",
    "        \n",
    "        strs.append(a)\n",
    "    \n",
    "  \n",
    "       # print('{0}'.format(a))   \n",
    "    #print('{0}'.format(r.abstract))  # 此处应有格式化输出\n",
    "\n",
    "\n",
    "print type(strs)\n",
    "\n",
    "sss=str(strs)\n",
    "\n",
    "#print sss\n",
    "\n",
    "getKeywords(sss)\n",
    "   \n",
    "     "
   ]
  },
  {
   "cell_type": "code",
   "execution_count": 42,
   "metadata": {},
   "outputs": [],
   "source": [
    "print('{0}'.format('hello','world'))"
   ]
  },
  {
   "cell_type": "code",
   "execution_count": 43,
   "metadata": {},
   "outputs": [],
   "source": [
    "a = '\\u64cd\\u4f5c\\u7cfb\\u7edf'\n",
    "\n",
    "print a.decode('unicode-escape').encode('utf-8')\n",
    "\n",
    "print type(a.decode('unicode-escape').encode('utf-8'))"
   ]
  },
  {
   "cell_type": "code",
   "execution_count": null,
   "metadata": {},
   "outputs": [],
   "source": []
  }
 ],
 "metadata": {
  "kernelspec": {
   "display_name": "Python 2",
   "language": "python",
   "name": "python2"
  },
  "language_info": {
   "codemirror_mode": {
    "name": "ipython",
    "version": 2
   },
   "file_extension": ".py",
   "mimetype": "text/x-python",
   "name": "python",
   "nbconvert_exporter": "python",
   "pygments_lexer": "ipython2",
   "version": "2.7.12"
  }
 },
 "nbformat": 4,
 "nbformat_minor": 2
}
