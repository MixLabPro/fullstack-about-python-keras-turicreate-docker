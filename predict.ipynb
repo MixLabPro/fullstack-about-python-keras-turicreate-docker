{
 "cells": [
  {
   "cell_type": "code",
   "execution_count": 63,
   "metadata": {
    "collapsed": false
   },
   "outputs": [],
   "source": [
    "from keras.models import model_from_json\n",
    "model=model_from_json(open('my_model_architecture.json').read())  \n",
    "model.load_weights('my_model_weights.h5')\n",
    "\n",
    "#加载model "
   ]
  },
  {
   "cell_type": "code",
   "execution_count": 64,
   "metadata": {
    "collapsed": false
   },
   "outputs": [],
   "source": [
    "\n",
    "import matplotlib.image as mpimg\n",
    "\n",
    "# mpimg 用于读取图片"
   ]
  },
  {
   "cell_type": "code",
   "execution_count": 65,
   "metadata": {
    "collapsed": false
   },
   "outputs": [
    {
     "name": "stdout",
     "output_type": "stream",
     "text": [
      "((28, 28), array([ 0.        ,  0.        ,  0.        ,  0.        ,  0.        ,\n",
      "        0.        ,  0.        ,  0.        ,  0.39215687,  0.50980395,\n",
      "        0.        ,  0.        ,  0.        ,  0.        ,  0.        ,\n",
      "        0.        ,  0.        ,  0.        ,  0.        ,  0.30980393,\n",
      "        0.58823532,  0.        ,  0.        ,  0.        ,  0.        ,\n",
      "        0.        ,  0.        ,  0.        ]))\n",
      "(1, 784)\n"
     ]
    }
   ],
   "source": [
    "img = mpimg.imread('test.png') \n",
    "\n",
    "'''\n",
    "matplotlib只支持PNG图像，读取和代码处于同一目录下的 test.png 此时 img 就已经是一个 np.array 了，并且已经归一化处理\n",
    "'''\n",
    "\n",
    "def rgb2gray(rgb):\n",
    "    return np.dot(rgb[...,:3], [0.299, 0.587, 0.114])\n",
    "\n",
    "img = rgb2gray(img)\n",
    "\n",
    "'''\n",
    "如果test.png是rgb通道的图片，可以rgb2gray进行转化\n",
    "'''\n",
    "\n",
    "print(img.shape,img[12])\n",
    "\n",
    "#(28, 28)\n",
    "\n",
    "img = img.reshape(1, 784)\n",
    "\n",
    "print(img.shape)\n",
    "\n",
    "#统一格式"
   ]
  },
  {
   "cell_type": "code",
   "execution_count": 66,
   "metadata": {
    "collapsed": false
   },
   "outputs": [
    {
     "name": "stdout",
     "output_type": "stream",
     "text": [
      "1/1 [==============================] - 0s\n",
      "[0]\n"
     ]
    }
   ],
   "source": [
    "\n",
    "pre=model.predict_classes(img)   \n",
    "\n",
    "#  预测\n",
    "\n",
    "print(pre)"
   ]
  }
 ],
 "metadata": {
  "kernelspec": {
   "display_name": "Python 2",
   "language": "python",
   "name": "python2"
  },
  "language_info": {
   "codemirror_mode": {
    "name": "ipython",
    "version": 2
   },
   "file_extension": ".py",
   "mimetype": "text/x-python",
   "name": "python",
   "nbconvert_exporter": "python",
   "pygments_lexer": "ipython2",
   "version": "2.7.6"
  }
 },
 "nbformat": 4,
 "nbformat_minor": 0
}
