{
 "cells": [
  {
   "cell_type": "markdown",
   "metadata": {},
   "source": [
    "# 使用ResNet-50做图像分类"
   ]
  },
  {
   "cell_type": "markdown",
   "metadata": {},
   "source": [
    "## 数据预处理"
   ]
  },
  {
   "cell_type": "code",
   "execution_count": 9,
   "metadata": {},
   "outputs": [],
   "source": [
    "fileDataName='balloon'\n",
    "\n",
    "filePath='./data/'+fileDataName\n",
    "filePathNew=filePath+'/ok'\n",
    "fileEnd='.png'\n"
   ]
  },
  {
   "cell_type": "code",
   "execution_count": 10,
   "metadata": {},
   "outputs": [
    {
     "name": "stdout",
     "output_type": "stream",
     "text": [
      "0\n"
     ]
    }
   ],
   "source": [
    "import os\n",
    "from PIL import Image\n",
    "\n",
    "files_bad=[]\n",
    "\n",
    "#thumbnailSize=1200\n",
    "\n",
    "files=os.listdir(filePath)\n",
    "\n",
    "isExist=os.path.exists(filePathNew)\n",
    "if isExist==False:\n",
    "    os.makedirs(filePathNew)\n",
    "\n",
    "for file in files: \n",
    "    if file.endswith(fileEnd): \n",
    "        _fileFullPath=os.path.join(filePath,file)\n",
    "        newName=os.path.splitext(file)[0]\n",
    "        \n",
    "        #print newName\n",
    "        newpath=os.path.join(filePathNew,newName+'.jpg')          \n",
    "        try: \n",
    "            img = Image.open(_fileFullPath) \n",
    "            rgbImg=img.convert(\"RGB\")\n",
    "            #print rgbImg.mode  \n",
    "            #w, h = img.size\n",
    "            #img.thumbnail((thumbnailSize, thumbnailSize))\n",
    "            #print img\n",
    "            rgbImg.save(newpath)\n",
    "                \n",
    "        except (IOError, SyntaxError) as e:\n",
    "            print('Bad file:', file)\n",
    "            files_bad.append(newpath)\n",
    "\n",
    "print len(files_bad)"
   ]
  },
  {
   "cell_type": "markdown",
   "metadata": {},
   "source": [
    "## 引用 Turi Create 库"
   ]
  },
  {
   "cell_type": "code",
   "execution_count": 11,
   "metadata": {},
   "outputs": [],
   "source": [
    "import turicreate as tc"
   ]
  },
  {
   "cell_type": "markdown",
   "metadata": {},
   "source": [
    "## 加载数据"
   ]
  },
  {
   "cell_type": "code",
   "execution_count": 25,
   "metadata": {},
   "outputs": [],
   "source": [
    "import turicreate as tc\n",
    "import os\n",
    "\n",
    "def loadData(type):\n",
    "    \n",
    "    path='./sframe/'+type+'.sframe'\n",
    "    filePath='./data/'+type+'/ok'\n",
    "    \n",
    "    if os.path.exists(filePath+'/.DS_Store'):\n",
    "        os.remove(filePath+'/.DS_Store')\n",
    "        \n",
    "    if os.path.exists(path):\n",
    "        ref_data =  tc.SFrame(path)\n",
    "        print 'has sframe'\n",
    "        return ref_data\n",
    "    else:\n",
    "        # 读取图片\n",
    "        ref_data  = tc.image_analysis.load_images(filePath)\n",
    "        #给每一行编号\n",
    "        ref_data = ref_data.add_row_number()\n",
    "        # 保存数据,以方便下次使用\n",
    "        ref_data.save('./sframe/'+type+'.sframe')\n",
    "        print 'nohas sframe'\n",
    "        return ref_data"
   ]
  },
  {
   "cell_type": "markdown",
   "metadata": {},
   "source": [
    "## Label the dataset\n",
    "In the following block of code we will labels the image in the dataset of **Egg** and **Soup** images. Then we will export it as an `SFrame` data object to use it for training the image classification model.\n",
    "\n",
    "1. The first line of code loads the folder images content using the `image_analysis` property. \n",
    "\n",
    "2. The second line creates a _foodType_ key for each image in the dataset to specify whether it's an **Egg** or **Soup** based on which folder it's located in.\n",
    "\n",
    "3. The third line exports the analyzed data as an `SFrame` object in order to use it while creating our image classifier.\n",
    "\n",
    "4. The fourth line simply visualises the new labeled image into a large list.\n",
    "\n",
    "**Note**:- You do not have to run the following block of code everytime you create a classifer, unless you changed/edited the dataset."
   ]
  },
  {
   "cell_type": "code",
   "execution_count": 26,
   "metadata": {},
   "outputs": [
    {
     "name": "stdout",
     "output_type": "stream",
     "text": [
      "nohas sframe\n",
      "nohas sframe\n"
     ]
    }
   ],
   "source": [
    "type1='cake'\n",
    "type2='balloon'\n",
    "\n",
    "data1=loadData(type1)\n",
    "data1[\"type\"]=type1\n",
    "data2=loadData(type2)\n",
    "data2[\"type\"]=type2\n",
    "\n",
    "data=data1.append(data2)\n",
    "data.save(\"./sframe/\"+type1+\"_or_\"+type2+\".sframe\")\n",
    "\n",
    "#data[\"foodType\"] = data[\"path\"].apply(lambda path: \"Cake\" if \"cake\" in path else \"balloon\")\n",
    "#data.save(\"egg_or_soup.sframe\")\n",
    "#data.explore()"
   ]
  },
  {
   "cell_type": "markdown",
   "metadata": {},
   "source": [
    "## 读取标记好的数据集\n",
    "In the following line of code we are loading the `SFrame` object that contains the images in our dataset with their labels."
   ]
  },
  {
   "cell_type": "code",
   "execution_count": 27,
   "metadata": {},
   "outputs": [],
   "source": [
    "type1='cake'\n",
    "type2='balloon'\n",
    "\n",
    "dataBuffer = tc.SFrame(\"./sframe/\"+type1+\"_or_\"+type2+\".sframe\")"
   ]
  },
  {
   "cell_type": "code",
   "execution_count": 28,
   "metadata": {},
   "outputs": [
    {
     "name": "stdout",
     "output_type": "stream",
     "text": [
      "+----+-------------------------------+--------------------------+------+\n",
      "| id |              path             |          image           | type |\n",
      "+----+-------------------------------+--------------------------+------+\n",
      "| 0  | /root/kerasStudy/05-turicr... |  Height: 312 Width: 500  | cake |\n",
      "| 1  | /root/kerasStudy/05-turicr... |  Height: 428 Width: 690  | cake |\n",
      "| 2  | /root/kerasStudy/05-turicr... | Height: 2783 Width: 3519 | cake |\n",
      "| 3  | /root/kerasStudy/05-turicr... |  Height: 256 Width: 256  | cake |\n",
      "| 4  | /root/kerasStudy/05-turicr... | Height: 2142 Width: 2534 | cake |\n",
      "| 5  | /root/kerasStudy/05-turicr... |  Height: 292 Width: 425  | cake |\n",
      "| 6  | /root/kerasStudy/05-turicr... | Height: 2000 Width: 2000 | cake |\n",
      "| 7  | /root/kerasStudy/05-turicr... |  Height: 300 Width: 400  | cake |\n",
      "| 8  | /root/kerasStudy/05-turicr... | Height: 852 Width: 1280  | cake |\n",
      "| 9  | /root/kerasStudy/05-turicr... | Height: 667 Width: 1000  | cake |\n",
      "+----+-------------------------------+--------------------------+------+\n",
      "[56 rows x 4 columns]\n",
      "Note: Only the head of the SFrame is printed.\n",
      "You can use print_rows(num_rows=m, num_columns=n) to print more rows and columns.\n"
     ]
    }
   ],
   "source": [
    "print dataBuffer"
   ]
  },
  {
   "cell_type": "markdown",
   "metadata": {},
   "source": [
    "## 创建训练集和测试集 我们按照2:8的比例随机切割数据"
   ]
  },
  {
   "cell_type": "code",
   "execution_count": 29,
   "metadata": {},
   "outputs": [],
   "source": [
    "trainingBuffers, testingBuffers = dataBuffer.random_split(0.8)"
   ]
  },
  {
   "cell_type": "markdown",
   "metadata": {},
   "source": [
    "## 训练图像分类模型\n",
    "In the following line of code, we will create an image classifier and we'll feed it with the training data we have. \n",
    "\n",
    "In this example, the image classifer's architecture will be a state-of-the-art Residual Network with 50 layers, also known as **ResNet-50**.\n",
    "\n",
    "Check out the official paper here: https://arxiv.org/abs/1512.03385."
   ]
  },
  {
   "cell_type": "code",
   "execution_count": 30,
   "metadata": {},
   "outputs": [
    {
     "name": "stdout",
     "output_type": "stream",
     "text": [
      "Resizing images...\n",
      "Performing feature extraction on resized images...\n",
      "Completed 45/45\n"
     ]
    },
    {
     "data": {
      "text/html": [
       "<pre>WARNING: The number of feature dimensions in this problem is very large in comparison with the number of examples. Unless an appropriate regularization value is set, this model may not provide accurate predictions for a validation/test set.</pre>"
      ],
      "text/plain": [
       "WARNING: The number of feature dimensions in this problem is very large in comparison with the number of examples. Unless an appropriate regularization value is set, this model may not provide accurate predictions for a validation/test set."
      ]
     },
     "metadata": {},
     "output_type": "display_data"
    },
    {
     "data": {
      "text/html": [
       "<pre>WARNING: Detected extremely low variance for feature(s) '__image_features__' because all entries are nearly the same.\n",
       "Proceeding with model training using all features. If the model does not provide results of adequate quality, exclude the above mentioned feature(s) from the input dataset.</pre>"
      ],
      "text/plain": [
       "WARNING: Detected extremely low variance for feature(s) '__image_features__' because all entries are nearly the same.\n",
       "Proceeding with model training using all features. If the model does not provide results of adequate quality, exclude the above mentioned feature(s) from the input dataset."
      ]
     },
     "metadata": {},
     "output_type": "display_data"
    },
    {
     "data": {
      "text/html": [
       "<pre>Logistic regression:</pre>"
      ],
      "text/plain": [
       "Logistic regression:"
      ]
     },
     "metadata": {},
     "output_type": "display_data"
    },
    {
     "data": {
      "text/html": [
       "<pre>--------------------------------------------------------</pre>"
      ],
      "text/plain": [
       "--------------------------------------------------------"
      ]
     },
     "metadata": {},
     "output_type": "display_data"
    },
    {
     "data": {
      "text/html": [
       "<pre>Number of examples          : 45</pre>"
      ],
      "text/plain": [
       "Number of examples          : 45"
      ]
     },
     "metadata": {},
     "output_type": "display_data"
    },
    {
     "data": {
      "text/html": [
       "<pre>Number of classes           : 2</pre>"
      ],
      "text/plain": [
       "Number of classes           : 2"
      ]
     },
     "metadata": {},
     "output_type": "display_data"
    },
    {
     "data": {
      "text/html": [
       "<pre>Number of feature columns   : 1</pre>"
      ],
      "text/plain": [
       "Number of feature columns   : 1"
      ]
     },
     "metadata": {},
     "output_type": "display_data"
    },
    {
     "data": {
      "text/html": [
       "<pre>Number of unpacked features : 2048</pre>"
      ],
      "text/plain": [
       "Number of unpacked features : 2048"
      ]
     },
     "metadata": {},
     "output_type": "display_data"
    },
    {
     "data": {
      "text/html": [
       "<pre>Number of coefficients    : 2049</pre>"
      ],
      "text/plain": [
       "Number of coefficients    : 2049"
      ]
     },
     "metadata": {},
     "output_type": "display_data"
    },
    {
     "data": {
      "text/html": [
       "<pre>Starting L-BFGS</pre>"
      ],
      "text/plain": [
       "Starting L-BFGS"
      ]
     },
     "metadata": {},
     "output_type": "display_data"
    },
    {
     "data": {
      "text/html": [
       "<pre>--------------------------------------------------------</pre>"
      ],
      "text/plain": [
       "--------------------------------------------------------"
      ]
     },
     "metadata": {},
     "output_type": "display_data"
    },
    {
     "data": {
      "text/html": [
       "<pre>+-----------+----------+-----------+--------------+-------------------+</pre>"
      ],
      "text/plain": [
       "+-----------+----------+-----------+--------------+-------------------+"
      ]
     },
     "metadata": {},
     "output_type": "display_data"
    },
    {
     "data": {
      "text/html": [
       "<pre>| Iteration | Passes   | Step size | Elapsed Time | Training-accuracy |</pre>"
      ],
      "text/plain": [
       "| Iteration | Passes   | Step size | Elapsed Time | Training-accuracy |"
      ]
     },
     "metadata": {},
     "output_type": "display_data"
    },
    {
     "data": {
      "text/html": [
       "<pre>+-----------+----------+-----------+--------------+-------------------+</pre>"
      ],
      "text/plain": [
       "+-----------+----------+-----------+--------------+-------------------+"
      ]
     },
     "metadata": {},
     "output_type": "display_data"
    },
    {
     "data": {
      "text/html": [
       "<pre>| 1         | 3        | 0.022222  | 1.022583     | 1.000000          |</pre>"
      ],
      "text/plain": [
       "| 1         | 3        | 0.022222  | 1.022583     | 1.000000          |"
      ]
     },
     "metadata": {},
     "output_type": "display_data"
    },
    {
     "data": {
      "text/html": [
       "<pre>+-----------+----------+-----------+--------------+-------------------+</pre>"
      ],
      "text/plain": [
       "+-----------+----------+-----------+--------------+-------------------+"
      ]
     },
     "metadata": {},
     "output_type": "display_data"
    },
    {
     "data": {
      "text/html": [
       "<pre>SUCCESS: Optimal solution found.</pre>"
      ],
      "text/plain": [
       "SUCCESS: Optimal solution found."
      ]
     },
     "metadata": {},
     "output_type": "display_data"
    },
    {
     "data": {
      "text/html": [
       "<pre></pre>"
      ],
      "text/plain": []
     },
     "metadata": {},
     "output_type": "display_data"
    }
   ],
   "source": [
    "model = tc.image_classifier.create(trainingBuffers, target=\"type\", model=\"resnet-50\")"
   ]
  },
  {
   "cell_type": "markdown",
   "metadata": {},
   "source": [
    "## Evaluate the test data to determine the model accuracy"
   ]
  },
  {
   "cell_type": "code",
   "execution_count": 31,
   "metadata": {},
   "outputs": [
    {
     "name": "stdout",
     "output_type": "stream",
     "text": [
      "1.0\n"
     ]
    }
   ],
   "source": [
    "evaluations = model.evaluate(testingBuffers)\n",
    "print evaluations[\"accuracy\"]"
   ]
  },
  {
   "cell_type": "markdown",
   "metadata": {},
   "source": [
    "## Save the Turi Create model to retrieve it later"
   ]
  },
  {
   "cell_type": "code",
   "execution_count": 8,
   "metadata": {
    "collapsed": true
   },
   "outputs": [],
   "source": [
    "model.save(\"./my_model_file/\"+type1+\"_or_\"+type2+\"_model_file\")"
   ]
  },
  {
   "cell_type": "markdown",
   "metadata": {},
   "source": [
    "## Export the image classification model for Core ML"
   ]
  },
  {
   "cell_type": "code",
   "execution_count": 9,
   "metadata": {
    "collapsed": true
   },
   "outputs": [],
   "source": [
    "model.export_coreml(type1+\"_or_\"+type2+\"_Classifier.mlmodel\")"
   ]
  },
  {
   "cell_type": "markdown",
   "metadata": {},
   "source": [
    "## 预测新的图片"
   ]
  },
  {
   "cell_type": "code",
   "execution_count": 45,
   "metadata": {},
   "outputs": [
    {
     "name": "stdout",
     "output_type": "stream",
     "text": [
      "['balloon']\n"
     ]
    }
   ],
   "source": [
    "#predictions = model.predict(testingBuffers)\n",
    "\n",
    "_path='./data/test6.jpg'\n",
    "\n",
    "_img_query  = tc.turicreate.Image(_path)\n",
    "_img_SF=tc.SFrame({\n",
    "        \"id\": ['test'],\n",
    "        \"path\":[_path ],\n",
    "        \"image\":[_img_query ]\n",
    "        })\n",
    "\n",
    "predictions = model.predict(_img_SF)   \n",
    "print predictions"
   ]
  }
 ],
 "metadata": {
  "kernelspec": {
   "display_name": "Python 2",
   "language": "python",
   "name": "python2"
  },
  "language_info": {
   "codemirror_mode": {
    "name": "ipython",
    "version": 2
   },
   "file_extension": ".py",
   "mimetype": "text/x-python",
   "name": "python",
   "nbconvert_exporter": "python",
   "pygments_lexer": "ipython2",
   "version": "2.7.12"
  }
 },
 "nbformat": 4,
 "nbformat_minor": 2
}
